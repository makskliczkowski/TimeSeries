{
 "cells": [
  {
   "cell_type": "code",
   "execution_count": 1,
   "id": "a1132d5e",
   "metadata": {},
   "outputs": [],
   "source": [
    "import pandas as pd\n",
    "import numpy as np\n",
    "\n",
    "import warnings\n",
    "warnings.filterwarnings(\"ignore\")"
   ]
  },
  {
   "cell_type": "code",
   "execution_count": 2,
   "id": "75beab92",
   "metadata": {},
   "outputs": [],
   "source": [
    "from statsmodels.tsa.statespace.sarimax import SARIMAX\n",
    "from statsmodels.graphics.tsaplots import plot_acf, plot_pacf\n",
    "from statsmodels.tsa.seasonal import seasonal_decompose\n",
    "from pmdarima import auto_arima"
   ]
  },
  {
   "cell_type": "code",
   "execution_count": 3,
   "id": "beee2975",
   "metadata": {},
   "outputs": [],
   "source": [
    "from statsmodels.stats.diagnostic import acorr_ljungbox\n",
    "from statsmodels.tsa.stattools import adfuller, kpss,grangercausalitytests"
   ]
  },
  {
   "cell_type": "code",
   "execution_count": 4,
   "id": "846067f9",
   "metadata": {},
   "outputs": [],
   "source": [
    "from sklearn.metrics import mean_absolute_percentage_error"
   ]
  },
  {
   "cell_type": "code",
   "execution_count": 5,
   "id": "80d00054",
   "metadata": {},
   "outputs": [
    {
     "data": {
      "text/html": [
       "<div>\n",
       "<style scoped>\n",
       "    .dataframe tbody tr th:only-of-type {\n",
       "        vertical-align: middle;\n",
       "    }\n",
       "\n",
       "    .dataframe tbody tr th {\n",
       "        vertical-align: top;\n",
       "    }\n",
       "\n",
       "    .dataframe thead th {\n",
       "        text-align: right;\n",
       "    }\n",
       "</style>\n",
       "<table border=\"1\" class=\"dataframe\">\n",
       "  <thead>\n",
       "    <tr style=\"text-align: right;\">\n",
       "      <th></th>\n",
       "      <th>Quarter</th>\n",
       "      <th>Consumption</th>\n",
       "      <th>Income</th>\n",
       "      <th>Production</th>\n",
       "      <th>Savings</th>\n",
       "      <th>Unemployment</th>\n",
       "    </tr>\n",
       "  </thead>\n",
       "  <tbody>\n",
       "    <tr>\n",
       "      <th>1</th>\n",
       "      <td>1970 Q1</td>\n",
       "      <td>0.618566</td>\n",
       "      <td>1.044801</td>\n",
       "      <td>-2.452486</td>\n",
       "      <td>5.299014</td>\n",
       "      <td>0.9</td>\n",
       "    </tr>\n",
       "    <tr>\n",
       "      <th>2</th>\n",
       "      <td>1970 Q2</td>\n",
       "      <td>0.451984</td>\n",
       "      <td>1.225647</td>\n",
       "      <td>-0.551459</td>\n",
       "      <td>7.789894</td>\n",
       "      <td>0.5</td>\n",
       "    </tr>\n",
       "    <tr>\n",
       "      <th>3</th>\n",
       "      <td>1970 Q3</td>\n",
       "      <td>0.872872</td>\n",
       "      <td>1.585154</td>\n",
       "      <td>-0.358652</td>\n",
       "      <td>7.403984</td>\n",
       "      <td>0.5</td>\n",
       "    </tr>\n",
       "    <tr>\n",
       "      <th>4</th>\n",
       "      <td>1970 Q4</td>\n",
       "      <td>-0.271848</td>\n",
       "      <td>-0.239545</td>\n",
       "      <td>-2.185691</td>\n",
       "      <td>1.169898</td>\n",
       "      <td>0.7</td>\n",
       "    </tr>\n",
       "    <tr>\n",
       "      <th>5</th>\n",
       "      <td>1971 Q1</td>\n",
       "      <td>1.901345</td>\n",
       "      <td>1.975925</td>\n",
       "      <td>1.909764</td>\n",
       "      <td>3.535667</td>\n",
       "      <td>-0.1</td>\n",
       "    </tr>\n",
       "    <tr>\n",
       "      <th>...</th>\n",
       "      <td>...</td>\n",
       "      <td>...</td>\n",
       "      <td>...</td>\n",
       "      <td>...</td>\n",
       "      <td>...</td>\n",
       "      <td>...</td>\n",
       "    </tr>\n",
       "    <tr>\n",
       "      <th>194</th>\n",
       "      <td>2018 Q2</td>\n",
       "      <td>0.983112</td>\n",
       "      <td>0.661825</td>\n",
       "      <td>1.117424</td>\n",
       "      <td>-2.723974</td>\n",
       "      <td>0.0</td>\n",
       "    </tr>\n",
       "    <tr>\n",
       "      <th>195</th>\n",
       "      <td>2018 Q3</td>\n",
       "      <td>0.853181</td>\n",
       "      <td>0.806271</td>\n",
       "      <td>1.256722</td>\n",
       "      <td>-0.085686</td>\n",
       "      <td>-0.3</td>\n",
       "    </tr>\n",
       "    <tr>\n",
       "      <th>196</th>\n",
       "      <td>2018 Q4</td>\n",
       "      <td>0.356512</td>\n",
       "      <td>0.695142</td>\n",
       "      <td>0.948148</td>\n",
       "      <td>5.031337</td>\n",
       "      <td>0.2</td>\n",
       "    </tr>\n",
       "    <tr>\n",
       "      <th>197</th>\n",
       "      <td>2019 Q1</td>\n",
       "      <td>0.282885</td>\n",
       "      <td>1.100753</td>\n",
       "      <td>-0.488206</td>\n",
       "      <td>9.760287</td>\n",
       "      <td>-0.1</td>\n",
       "    </tr>\n",
       "    <tr>\n",
       "      <th>198</th>\n",
       "      <td>2019 Q2</td>\n",
       "      <td>1.113517</td>\n",
       "      <td>0.593399</td>\n",
       "      <td>-0.539949</td>\n",
       "      <td>-4.264616</td>\n",
       "      <td>-0.1</td>\n",
       "    </tr>\n",
       "  </tbody>\n",
       "</table>\n",
       "<p>198 rows × 6 columns</p>\n",
       "</div>"
      ],
      "text/plain": [
       "     Quarter  Consumption    Income  Production   Savings  Unemployment\n",
       "1    1970 Q1     0.618566  1.044801   -2.452486  5.299014           0.9\n",
       "2    1970 Q2     0.451984  1.225647   -0.551459  7.789894           0.5\n",
       "3    1970 Q3     0.872872  1.585154   -0.358652  7.403984           0.5\n",
       "4    1970 Q4    -0.271848 -0.239545   -2.185691  1.169898           0.7\n",
       "5    1971 Q1     1.901345  1.975925    1.909764  3.535667          -0.1\n",
       "..       ...          ...       ...         ...       ...           ...\n",
       "194  2018 Q2     0.983112  0.661825    1.117424 -2.723974           0.0\n",
       "195  2018 Q3     0.853181  0.806271    1.256722 -0.085686          -0.3\n",
       "196  2018 Q4     0.356512  0.695142    0.948148  5.031337           0.2\n",
       "197  2019 Q1     0.282885  1.100753   -0.488206  9.760287          -0.1\n",
       "198  2019 Q2     1.113517  0.593399   -0.539949 -4.264616          -0.1\n",
       "\n",
       "[198 rows x 6 columns]"
      ]
     },
     "execution_count": 5,
     "metadata": {},
     "output_type": "execute_result"
    }
   ],
   "source": [
    "df=pd.read_csv('us_data.csv',sep='\\t')\n",
    "df"
   ]
  },
  {
   "cell_type": "code",
   "execution_count": 6,
   "id": "03d8b3d3",
   "metadata": {},
   "outputs": [
    {
     "data": {
      "text/html": [
       "<div>\n",
       "<style scoped>\n",
       "    .dataframe tbody tr th:only-of-type {\n",
       "        vertical-align: middle;\n",
       "    }\n",
       "\n",
       "    .dataframe tbody tr th {\n",
       "        vertical-align: top;\n",
       "    }\n",
       "\n",
       "    .dataframe thead th {\n",
       "        text-align: right;\n",
       "    }\n",
       "</style>\n",
       "<table border=\"1\" class=\"dataframe\">\n",
       "  <thead>\n",
       "    <tr style=\"text-align: right;\">\n",
       "      <th></th>\n",
       "      <th>Consumption</th>\n",
       "      <th>Income</th>\n",
       "      <th>Production</th>\n",
       "      <th>Savings</th>\n",
       "      <th>Unemployment</th>\n",
       "    </tr>\n",
       "    <tr>\n",
       "      <th>date</th>\n",
       "      <th></th>\n",
       "      <th></th>\n",
       "      <th></th>\n",
       "      <th></th>\n",
       "      <th></th>\n",
       "    </tr>\n",
       "  </thead>\n",
       "  <tbody>\n",
       "    <tr>\n",
       "      <th>1970-01-01</th>\n",
       "      <td>0.618566</td>\n",
       "      <td>1.044801</td>\n",
       "      <td>-2.452486</td>\n",
       "      <td>5.299014</td>\n",
       "      <td>0.9</td>\n",
       "    </tr>\n",
       "    <tr>\n",
       "      <th>1970-04-01</th>\n",
       "      <td>0.451984</td>\n",
       "      <td>1.225647</td>\n",
       "      <td>-0.551459</td>\n",
       "      <td>7.789894</td>\n",
       "      <td>0.5</td>\n",
       "    </tr>\n",
       "    <tr>\n",
       "      <th>1970-07-01</th>\n",
       "      <td>0.872872</td>\n",
       "      <td>1.585154</td>\n",
       "      <td>-0.358652</td>\n",
       "      <td>7.403984</td>\n",
       "      <td>0.5</td>\n",
       "    </tr>\n",
       "    <tr>\n",
       "      <th>1970-10-01</th>\n",
       "      <td>-0.271848</td>\n",
       "      <td>-0.239545</td>\n",
       "      <td>-2.185691</td>\n",
       "      <td>1.169898</td>\n",
       "      <td>0.7</td>\n",
       "    </tr>\n",
       "    <tr>\n",
       "      <th>1971-01-01</th>\n",
       "      <td>1.901345</td>\n",
       "      <td>1.975925</td>\n",
       "      <td>1.909764</td>\n",
       "      <td>3.535667</td>\n",
       "      <td>-0.1</td>\n",
       "    </tr>\n",
       "    <tr>\n",
       "      <th>...</th>\n",
       "      <td>...</td>\n",
       "      <td>...</td>\n",
       "      <td>...</td>\n",
       "      <td>...</td>\n",
       "      <td>...</td>\n",
       "    </tr>\n",
       "    <tr>\n",
       "      <th>2018-04-01</th>\n",
       "      <td>0.983112</td>\n",
       "      <td>0.661825</td>\n",
       "      <td>1.117424</td>\n",
       "      <td>-2.723974</td>\n",
       "      <td>0.0</td>\n",
       "    </tr>\n",
       "    <tr>\n",
       "      <th>2018-07-01</th>\n",
       "      <td>0.853181</td>\n",
       "      <td>0.806271</td>\n",
       "      <td>1.256722</td>\n",
       "      <td>-0.085686</td>\n",
       "      <td>-0.3</td>\n",
       "    </tr>\n",
       "    <tr>\n",
       "      <th>2018-10-01</th>\n",
       "      <td>0.356512</td>\n",
       "      <td>0.695142</td>\n",
       "      <td>0.948148</td>\n",
       "      <td>5.031337</td>\n",
       "      <td>0.2</td>\n",
       "    </tr>\n",
       "    <tr>\n",
       "      <th>2019-01-01</th>\n",
       "      <td>0.282885</td>\n",
       "      <td>1.100753</td>\n",
       "      <td>-0.488206</td>\n",
       "      <td>9.760287</td>\n",
       "      <td>-0.1</td>\n",
       "    </tr>\n",
       "    <tr>\n",
       "      <th>2019-04-01</th>\n",
       "      <td>1.113517</td>\n",
       "      <td>0.593399</td>\n",
       "      <td>-0.539949</td>\n",
       "      <td>-4.264616</td>\n",
       "      <td>-0.1</td>\n",
       "    </tr>\n",
       "  </tbody>\n",
       "</table>\n",
       "<p>198 rows × 5 columns</p>\n",
       "</div>"
      ],
      "text/plain": [
       "            Consumption    Income  Production   Savings  Unemployment\n",
       "date                                                                 \n",
       "1970-01-01     0.618566  1.044801   -2.452486  5.299014           0.9\n",
       "1970-04-01     0.451984  1.225647   -0.551459  7.789894           0.5\n",
       "1970-07-01     0.872872  1.585154   -0.358652  7.403984           0.5\n",
       "1970-10-01    -0.271848 -0.239545   -2.185691  1.169898           0.7\n",
       "1971-01-01     1.901345  1.975925    1.909764  3.535667          -0.1\n",
       "...                 ...       ...         ...       ...           ...\n",
       "2018-04-01     0.983112  0.661825    1.117424 -2.723974           0.0\n",
       "2018-07-01     0.853181  0.806271    1.256722 -0.085686          -0.3\n",
       "2018-10-01     0.356512  0.695142    0.948148  5.031337           0.2\n",
       "2019-01-01     0.282885  1.100753   -0.488206  9.760287          -0.1\n",
       "2019-04-01     1.113517  0.593399   -0.539949 -4.264616          -0.1\n",
       "\n",
       "[198 rows x 5 columns]"
      ]
     },
     "execution_count": 6,
     "metadata": {},
     "output_type": "execute_result"
    }
   ],
   "source": [
    "df['date']=pd.to_datetime(df['Quarter'].str.replace(' ',''))\n",
    "df.set_index('date',inplace=True)\n",
    "df.index.freq='QS-JAN'\n",
    "df.drop('Quarter',axis=1,inplace=True)\n",
    "df"
   ]
  },
  {
   "cell_type": "code",
   "execution_count": 7,
   "id": "676cf724",
   "metadata": {},
   "outputs": [
    {
     "name": "stdout",
     "output_type": "stream",
     "text": [
      "<class 'pandas.core.frame.DataFrame'>\n",
      "DatetimeIndex: 198 entries, 1970-01-01 to 2019-04-01\n",
      "Freq: QS-JAN\n",
      "Data columns (total 5 columns):\n",
      " #   Column        Non-Null Count  Dtype  \n",
      "---  ------        --------------  -----  \n",
      " 0   Consumption   198 non-null    float64\n",
      " 1   Income        198 non-null    float64\n",
      " 2   Production    198 non-null    float64\n",
      " 3   Savings       198 non-null    float64\n",
      " 4   Unemployment  198 non-null    float64\n",
      "dtypes: float64(5)\n",
      "memory usage: 9.3 KB\n"
     ]
    }
   ],
   "source": [
    "df.info()"
   ]
  },
  {
   "cell_type": "code",
   "execution_count": 8,
   "id": "5804391e",
   "metadata": {},
   "outputs": [
    {
     "data": {
      "text/plain": [
       "<AxesSubplot:xlabel='date'>"
      ]
     },
     "execution_count": 8,
     "metadata": {},
     "output_type": "execute_result"
    },
    {
     "data": {
      "image/png": "[encoded data removed]",
      "text/plain": [
       "<Figure size 432x288 with 1 Axes>"
      ]
     },
     "metadata": {
      "needs_background": "light"
     },
     "output_type": "display_data"
    }
   ],
   "source": [
    "df[['Consumption','Income']].plot(legend=True)"
   ]
  },
  {
   "cell_type": "code",
   "execution_count": 9,
   "id": "57878bc2",
   "metadata": {},
   "outputs": [
    {
     "data": {
      "text/plain": [
       "(-4.6101231449022055,\n",
       " 0.00012373240927130436,\n",
       " 2,\n",
       " 195,\n",
       " {'1%': -3.464337030867007,\n",
       "  '5%': -2.876478799035722,\n",
       "  '10%': -2.574733103221565},\n",
       " 306.84324181648583)"
      ]
     },
     "execution_count": 9,
     "metadata": {},
     "output_type": "execute_result"
    }
   ],
   "source": [
    "adfuller(df['Consumption'])"
   ]
  },
  {
   "cell_type": "code",
   "execution_count": 10,
   "id": "e8c3d98d",
   "metadata": {},
   "outputs": [
    {
     "data": {
      "text/plain": [
       "(-6.7656134181274,\n",
       " 2.722059468837914e-09,\n",
       " 4,\n",
       " 193,\n",
       " {'1%': -3.4646940755442612,\n",
       "  '5%': -2.8766348847254934,\n",
       "  '10%': -2.5748163958763994},\n",
       " 469.11064516885546)"
      ]
     },
     "execution_count": 10,
     "metadata": {},
     "output_type": "execute_result"
    }
   ],
   "source": [
    "adfuller(df['Income'])"
   ]
  },
  {
   "cell_type": "code",
   "execution_count": 12,
   "id": "f4b43a85",
   "metadata": {},
   "outputs": [
    {
     "name": "stdout",
     "output_type": "stream",
     "text": [
      "\n",
      "Granger Causality\n",
      "number of lags (no zero) 1\n",
      "ssr based F test:         F=4.8225  , p=0.0293  , df_denom=194, df_num=1\n",
      "ssr based chi2 test:   chi2=4.8970  , p=0.0269  , df=1\n",
      "likelihood ratio test: chi2=4.8372  , p=0.0279  , df=1\n",
      "parameter F test:         F=4.8225  , p=0.0293  , df_denom=194, df_num=1\n",
      "\n",
      "Granger Causality\n",
      "number of lags (no zero) 2\n",
      "ssr based F test:         F=1.6841  , p=0.1884  , df_denom=191, df_num=2\n",
      "ssr based chi2 test:   chi2=3.4563  , p=0.1776  , df=2\n",
      "likelihood ratio test: chi2=3.4262  , p=0.1803  , df=2\n",
      "parameter F test:         F=1.6841  , p=0.1884  , df_denom=191, df_num=2\n",
      "\n",
      "Granger Causality\n",
      "number of lags (no zero) 3\n",
      "ssr based F test:         F=1.3557  , p=0.2578  , df_denom=188, df_num=3\n",
      "ssr based chi2 test:   chi2=4.2186  , p=0.2388  , df=3\n",
      "likelihood ratio test: chi2=4.1736  , p=0.2433  , df=3\n",
      "parameter F test:         F=1.3557  , p=0.2578  , df_denom=188, df_num=3\n",
      "\n",
      "Granger Causality\n",
      "number of lags (no zero) 4\n",
      "ssr based F test:         F=1.6619  , p=0.1607  , df_denom=185, df_num=4\n",
      "ssr based chi2 test:   chi2=6.9711  , p=0.1374  , df=4\n",
      "likelihood ratio test: chi2=6.8488  , p=0.1441  , df=4\n",
      "parameter F test:         F=1.6619  , p=0.1607  , df_denom=185, df_num=4\n"
     ]
    },
    {
     "data": {
      "text/plain": [
       "{1: ({'ssr_ftest': (4.822459130803696, 0.029276853643505723, 194.0, 1),\n",
       "   'ssr_chi2test': (4.897033241073856, 0.026902876229972755, 1),\n",
       "   'lrtest': (4.837158147802484, 0.0278527586745701, 1),\n",
       "   'params_ftest': (4.822459130803681, 0.029276853643505945, 194.0, 1.0)},\n",
       "  [<statsmodels.regression.linear_model.RegressionResultsWrapper at 0x7fac20443d30>,\n",
       "   <statsmodels.regression.linear_model.RegressionResultsWrapper at 0x7fac20443b50>,\n",
       "   array([[0., 1., 0.]])]),\n",
       " 2: ({'ssr_ftest': (1.6840657336352534, 0.18836203572157817, 191.0, 2),\n",
       "   'ssr_chi2test': (3.4563024480891067, 0.17761247228772578, 2),\n",
       "   'lrtest': (3.426181480907303, 0.18030764638208824, 2),\n",
       "   'params_ftest': (1.6840657336352338, 0.18836203572157892, 191.0, 2.0)},\n",
       "  [<statsmodels.regression.linear_model.RegressionResultsWrapper at 0x7fac20a40ca0>,\n",
       "   <statsmodels.regression.linear_model.RegressionResultsWrapper at 0x7fac20a408b0>,\n",
       "   array([[0., 0., 1., 0., 0.],\n",
       "          [0., 0., 0., 1., 0.]])]),\n",
       " 3: ({'ssr_ftest': (1.3557106457032684, 0.2577711331691011, 188.0, 3),\n",
       "   'ssr_chi2test': (4.218567700725596, 0.23880946864445363, 3),\n",
       "   'lrtest': (4.173583750414082, 0.24331999598530307, 3),\n",
       "   'params_ftest': (1.3557106457032813, 0.2577711331690909, 188.0, 3.0)},\n",
       "  [<statsmodels.regression.linear_model.RegressionResultsWrapper at 0x7fac20a40a60>,\n",
       "   <statsmodels.regression.linear_model.RegressionResultsWrapper at 0x7fac20a40a30>,\n",
       "   array([[0., 0., 0., 1., 0., 0., 0.],\n",
       "          [0., 0., 0., 0., 1., 0., 0.],\n",
       "          [0., 0., 0., 0., 0., 1., 0.]])]),\n",
       " 4: ({'ssr_ftest': (1.6619230259179782, 0.16067012220182084, 185.0, 4),\n",
       "   'ssr_chi2test': (6.971093341147844, 0.137423718021706, 4),\n",
       "   'lrtest': (6.848767339487097, 0.14409929266071153, 4),\n",
       "   'params_ftest': (1.6619230259179827, 0.16067012220181998, 185.0, 4.0)},\n",
       "  [<statsmodels.regression.linear_model.RegressionResultsWrapper at 0x7fac20a39c10>,\n",
       "   <statsmodels.regression.linear_model.RegressionResultsWrapper at 0x7fac20a39d60>,\n",
       "   array([[0., 0., 0., 0., 1., 0., 0., 0., 0.],\n",
       "          [0., 0., 0., 0., 0., 1., 0., 0., 0.],\n",
       "          [0., 0., 0., 0., 0., 0., 1., 0., 0.],\n",
       "          [0., 0., 0., 0., 0., 0., 0., 1., 0.]])])}"
      ]
     },
     "execution_count": 12,
     "metadata": {},
     "output_type": "execute_result"
    }
   ],
   "source": [
    "grangercausalitytests(df[['Consumption','Income']],maxlag=4)"
   ]
  },
  {
   "cell_type": "code",
   "execution_count": 13,
   "id": "9e371c6e",
   "metadata": {},
   "outputs": [
    {
     "name": "stdout",
     "output_type": "stream",
     "text": [
      "\n",
      "Granger Causality\n",
      "number of lags (no zero) 1\n",
      "ssr based F test:         F=22.7569 , p=0.0000  , df_denom=194, df_num=1\n",
      "ssr based chi2 test:   chi2=23.1088 , p=0.0000  , df=1\n",
      "likelihood ratio test: chi2=21.8509 , p=0.0000  , df=1\n",
      "parameter F test:         F=22.7569 , p=0.0000  , df_denom=194, df_num=1\n",
      "\n",
      "Granger Causality\n",
      "number of lags (no zero) 2\n",
      "ssr based F test:         F=9.6515  , p=0.0001  , df_denom=191, df_num=2\n",
      "ssr based chi2 test:   chi2=19.8083 , p=0.0000  , df=2\n",
      "likelihood ratio test: chi2=18.8701 , p=0.0001  , df=2\n",
      "parameter F test:         F=9.6515  , p=0.0001  , df_denom=191, df_num=2\n",
      "\n",
      "Granger Causality\n",
      "number of lags (no zero) 3\n",
      "ssr based F test:         F=9.8899  , p=0.0000  , df_denom=188, df_num=3\n",
      "ssr based chi2 test:   chi2=30.7745 , p=0.0000  , df=3\n",
      "likelihood ratio test: chi2=28.5747 , p=0.0000  , df=3\n",
      "parameter F test:         F=9.8899  , p=0.0000  , df_denom=188, df_num=3\n",
      "\n",
      "Granger Causality\n",
      "number of lags (no zero) 4\n",
      "ssr based F test:         F=8.9666  , p=0.0000  , df_denom=185, df_num=4\n",
      "ssr based chi2 test:   chi2=37.6113 , p=0.0000  , df=4\n",
      "likelihood ratio test: chi2=34.3773 , p=0.0000  , df=4\n",
      "parameter F test:         F=8.9666  , p=0.0000  , df_denom=185, df_num=4\n"
     ]
    },
    {
     "data": {
      "text/plain": [
       "{1: ({'ssr_ftest': (22.756900160084378, 3.606706940851373e-06, 194.0, 1),\n",
       "   'ssr_chi2test': (23.108810987302178, 1.5308757911111413e-06, 1),\n",
       "   'lrtest': (21.850903275624944, 2.946778497402558e-06, 1),\n",
       "   'params_ftest': (22.756900160084353, 3.6067069408514184e-06, 194.0, 1.0)},\n",
       "  [<statsmodels.regression.linear_model.RegressionResultsWrapper at 0x7fac20443e50>,\n",
       "   <statsmodels.regression.linear_model.RegressionResultsWrapper at 0x7fac20a19df0>,\n",
       "   array([[0., 1., 0.]])]),\n",
       " 2: ({'ssr_ftest': (9.6514885484608, 0.00010161291146155666, 191.0, 2),\n",
       "   'ssr_chi2test': (19.80829063349023, 4.9967122603523374e-05, 2),\n",
       "   'lrtest': (18.870058954110846, 7.98764511990486e-05, 2),\n",
       "   'params_ftest': (9.651488548460769, 0.00010161291146156023, 191.0, 2.0)},\n",
       "  [<statsmodels.regression.linear_model.RegressionResultsWrapper at 0x7fac20a19b20>,\n",
       "   <statsmodels.regression.linear_model.RegressionResultsWrapper at 0x7fac20a19f10>,\n",
       "   array([[0., 0., 1., 0., 0.],\n",
       "          [0., 0., 0., 1., 0.]])]),\n",
       " 3: ({'ssr_ftest': (9.889918695760983, 4.361586242578561e-06, 188.0, 3),\n",
       "   'ssr_chi2test': (30.774481047979656, 9.482496572962478e-07, 3),\n",
       "   'lrtest': (28.574728851674877, 2.7509226577650864e-06, 3),\n",
       "   'params_ftest': (9.889918695760993, 4.361586242578506e-06, 188.0, 3.0)},\n",
       "  [<statsmodels.regression.linear_model.RegressionResultsWrapper at 0x7fac20a19670>,\n",
       "   <statsmodels.regression.linear_model.RegressionResultsWrapper at 0x7fac20a40910>,\n",
       "   array([[0., 0., 0., 1., 0., 0., 0.],\n",
       "          [0., 0., 0., 0., 1., 0., 0.],\n",
       "          [0., 0., 0., 0., 0., 1., 0.]])]),\n",
       " 4: ({'ssr_ftest': (8.966609208862248, 1.2192036448451902e-06, 185.0, 4),\n",
       "   'ssr_chi2test': (37.611290519335704, 1.3477242139193173e-07, 4),\n",
       "   'lrtest': (34.37725309296604, 6.235542525071482e-07, 4),\n",
       "   'params_ftest': (8.966609208862259, 1.2192036448451765e-06, 185.0, 4.0)},\n",
       "  [<statsmodels.regression.linear_model.RegressionResultsWrapper at 0x7fac20a40820>,\n",
       "   <statsmodels.regression.linear_model.RegressionResultsWrapper at 0x7fac20a401c0>,\n",
       "   array([[0., 0., 0., 0., 1., 0., 0., 0., 0.],\n",
       "          [0., 0., 0., 0., 0., 1., 0., 0., 0.],\n",
       "          [0., 0., 0., 0., 0., 0., 1., 0., 0.],\n",
       "          [0., 0., 0., 0., 0., 0., 0., 1., 0.]])])}"
      ]
     },
     "execution_count": 13,
     "metadata": {},
     "output_type": "execute_result"
    }
   ],
   "source": [
    "grangercausalitytests(df[['Income','Consumption']],maxlag=4)"
   ]
  },
  {
   "cell_type": "code",
   "execution_count": 31,
   "id": "bc710a58",
   "metadata": {},
   "outputs": [
    {
     "name": "stdout",
     "output_type": "stream",
     "text": [
      "Performing stepwise search to minimize aic\n",
      " ARIMA(2,0,2)(0,0,0)[0]             : AIC=655.018, Time=0.07 sec\n",
      " ARIMA(0,0,0)(0,0,0)[0]             : AIC=750.017, Time=0.00 sec\n",
      " ARIMA(1,0,0)(0,0,0)[0]             : AIC=653.529, Time=0.01 sec\n",
      " ARIMA(0,0,1)(0,0,0)[0]             : AIC=667.267, Time=0.01 sec\n",
      " ARIMA(2,0,0)(0,0,0)[0]             : AIC=654.123, Time=0.02 sec\n",
      " ARIMA(1,0,1)(0,0,0)[0]             : AIC=653.232, Time=0.01 sec\n",
      " ARIMA(2,0,1)(0,0,0)[0]             : AIC=653.562, Time=0.04 sec\n",
      " ARIMA(1,0,2)(0,0,0)[0]             : AIC=653.448, Time=0.02 sec\n",
      " ARIMA(0,0,2)(0,0,0)[0]             : AIC=659.042, Time=0.01 sec\n",
      " ARIMA(1,0,1)(0,0,0)[0] intercept   : AIC=649.179, Time=0.03 sec\n",
      " ARIMA(0,0,1)(0,0,0)[0] intercept   : AIC=657.083, Time=0.02 sec\n",
      " ARIMA(1,0,0)(0,0,0)[0] intercept   : AIC=650.970, Time=0.02 sec\n",
      " ARIMA(2,0,1)(0,0,0)[0] intercept   : AIC=650.095, Time=0.09 sec\n",
      " ARIMA(1,0,2)(0,0,0)[0] intercept   : AIC=650.303, Time=0.04 sec\n",
      " ARIMA(0,0,0)(0,0,0)[0] intercept   : AIC=731.058, Time=0.01 sec\n",
      " ARIMA(0,0,2)(0,0,0)[0] intercept   : AIC=652.145, Time=0.03 sec\n",
      " ARIMA(2,0,0)(0,0,0)[0] intercept   : AIC=650.427, Time=0.02 sec\n",
      " ARIMA(2,0,2)(0,0,0)[0] intercept   : AIC=651.946, Time=0.10 sec\n",
      "\n",
      "Best model:  ARIMA(1,0,1)(0,0,0)[0] intercept\n",
      "Total fit time: 0.551 seconds\n"
     ]
    }
   ],
   "source": [
    "stepwise_fit=auto_arima(df['Production'],seasonal=False,d=0,stepwise=True,trace=True)"
   ]
  },
  {
   "cell_type": "code",
   "execution_count": 15,
   "id": "4c16b522",
   "metadata": {},
   "outputs": [
    {
     "name": "stdout",
     "output_type": "stream",
     "text": [
      "RUNNING THE L-BFGS-B CODE\n",
      "\n",
      "           * * *\n",
      "\n",
      "Machine precision = 2.220D-16\n",
      " N =            4     M =           10\n",
      "\n",
      "At X0         0 variables are exactly at the bounds\n",
      "\n",
      "At iterate    0    f=  9.02161D-01    |proj g|=  1.80612D-02\n",
      "\n",
      "At iterate    5    f=  9.02121D-01    |proj g|=  9.08667D-04\n",
      "\n",
      "At iterate   10    f=  9.02114D-01    |proj g|=  4.07846D-06\n",
      "\n",
      "           * * *\n",
      "\n",
      "Tit   = total number of iterations\n",
      "Tnf   = total number of function evaluations\n",
      "Tnint = total number of segments explored during Cauchy searches\n",
      "Skip  = number of BFGS updates skipped\n",
      "Nact  = number of active bounds at final generalized Cauchy point\n",
      "Projg = norm of the final projected gradient\n",
      "F     = final function value\n",
      "\n",
      "           * * *\n",
      "\n",
      "   N    Tit     Tnf  Tnint  Skip  Nact     Projg        F\n",
      "    4     10     12      1     0     0   4.078D-06   9.021D-01\n",
      "  F =  0.90211402899708149     \n",
      "\n",
      "CONVERGENCE: NORM_OF_PROJECTED_GRADIENT_<=_PGTOL            \n"
     ]
    },
    {
     "name": "stderr",
     "output_type": "stream",
     "text": [
      " This problem is unconstrained.\n"
     ]
    },
    {
     "data": {
      "text/html": [
       "<table class=\"simpletable\">\n",
       "<caption>SARIMAX Results</caption>\n",
       "<tr>\n",
       "  <th>Dep. Variable:</th>      <td>Consumption</td>   <th>  No. Observations:  </th>    <td>198</td>  \n",
       "</tr>\n",
       "<tr>\n",
       "  <th>Model:</th>           <td>SARIMAX(3, 0, 0)</td> <th>  Log Likelihood     </th> <td>-178.619</td>\n",
       "</tr>\n",
       "<tr>\n",
       "  <th>Date:</th>            <td>Wed, 20 Apr 2022</td> <th>  AIC                </th>  <td>365.237</td>\n",
       "</tr>\n",
       "<tr>\n",
       "  <th>Time:</th>                <td>09:57:07</td>     <th>  BIC                </th>  <td>378.390</td>\n",
       "</tr>\n",
       "<tr>\n",
       "  <th>Sample:</th>             <td>01-01-1970</td>    <th>  HQIC               </th>  <td>370.561</td>\n",
       "</tr>\n",
       "<tr>\n",
       "  <th></th>                   <td>- 04-01-2019</td>   <th>                     </th>     <td> </td>   \n",
       "</tr>\n",
       "<tr>\n",
       "  <th>Covariance Type:</th>        <td>opg</td>       <th>                     </th>     <td> </td>   \n",
       "</tr>\n",
       "</table>\n",
       "<table class=\"simpletable\">\n",
       "<tr>\n",
       "     <td></td>       <th>coef</th>     <th>std err</th>      <th>z</th>      <th>P>|z|</th>  <th>[0.025</th>    <th>0.975]</th>  \n",
       "</tr>\n",
       "<tr>\n",
       "  <th>ar.L1</th>  <td>    0.3011</td> <td>    0.048</td> <td>    6.323</td> <td> 0.000</td> <td>    0.208</td> <td>    0.394</td>\n",
       "</tr>\n",
       "<tr>\n",
       "  <th>ar.L2</th>  <td>    0.2558</td> <td>    0.051</td> <td>    5.057</td> <td> 0.000</td> <td>    0.157</td> <td>    0.355</td>\n",
       "</tr>\n",
       "<tr>\n",
       "  <th>ar.L3</th>  <td>    0.3229</td> <td>    0.056</td> <td>    5.729</td> <td> 0.000</td> <td>    0.212</td> <td>    0.433</td>\n",
       "</tr>\n",
       "<tr>\n",
       "  <th>sigma2</th> <td>    0.3533</td> <td>    0.025</td> <td>   13.938</td> <td> 0.000</td> <td>    0.304</td> <td>    0.403</td>\n",
       "</tr>\n",
       "</table>\n",
       "<table class=\"simpletable\">\n",
       "<tr>\n",
       "  <th>Ljung-Box (L1) (Q):</th>     <td>0.16</td> <th>  Jarque-Bera (JB):  </th> <td>50.94</td>\n",
       "</tr>\n",
       "<tr>\n",
       "  <th>Prob(Q):</th>                <td>0.69</td> <th>  Prob(JB):          </th> <td>0.00</td> \n",
       "</tr>\n",
       "<tr>\n",
       "  <th>Heteroskedasticity (H):</th> <td>0.20</td> <th>  Skew:              </th> <td>-0.27</td>\n",
       "</tr>\n",
       "<tr>\n",
       "  <th>Prob(H) (two-sided):</th>    <td>0.00</td> <th>  Kurtosis:          </th> <td>5.43</td> \n",
       "</tr>\n",
       "</table><br/><br/>Warnings:<br/>[1] Covariance matrix calculated using the outer product of gradients (complex-step)."
      ],
      "text/plain": [
       "<class 'statsmodels.iolib.summary.Summary'>\n",
       "\"\"\"\n",
       "                               SARIMAX Results                                \n",
       "==============================================================================\n",
       "Dep. Variable:            Consumption   No. Observations:                  198\n",
       "Model:               SARIMAX(3, 0, 0)   Log Likelihood                -178.619\n",
       "Date:                Wed, 20 Apr 2022   AIC                            365.237\n",
       "Time:                        09:57:07   BIC                            378.390\n",
       "Sample:                    01-01-1970   HQIC                           370.561\n",
       "                         - 04-01-2019                                         \n",
       "Covariance Type:                  opg                                         \n",
       "==============================================================================\n",
       "                 coef    std err          z      P>|z|      [0.025      0.975]\n",
       "------------------------------------------------------------------------------\n",
       "ar.L1          0.3011      0.048      6.323      0.000       0.208       0.394\n",
       "ar.L2          0.2558      0.051      5.057      0.000       0.157       0.355\n",
       "ar.L3          0.3229      0.056      5.729      0.000       0.212       0.433\n",
       "sigma2         0.3533      0.025     13.938      0.000       0.304       0.403\n",
       "===================================================================================\n",
       "Ljung-Box (L1) (Q):                   0.16   Jarque-Bera (JB):                50.94\n",
       "Prob(Q):                              0.69   Prob(JB):                         0.00\n",
       "Heteroskedasticity (H):               0.20   Skew:                            -0.27\n",
       "Prob(H) (two-sided):                  0.00   Kurtosis:                         5.43\n",
       "===================================================================================\n",
       "\n",
       "Warnings:\n",
       "[1] Covariance matrix calculated using the outer product of gradients (complex-step).\n",
       "\"\"\""
      ]
     },
     "execution_count": 15,
     "metadata": {},
     "output_type": "execute_result"
    }
   ],
   "source": [
    "model=SARIMAX(df['Consumption'],order=(3,0,0),seasonal_order=(0,0,0,0))\n",
    "results=model.fit()\n",
    "results.summary()"
   ]
  },
  {
   "cell_type": "code",
   "execution_count": 16,
   "id": "dbc7b2c1",
   "metadata": {},
   "outputs": [],
   "source": [
    "train=df.iloc[:-4]\n",
    "test=df.iloc[-4:]"
   ]
  },
  {
   "cell_type": "code",
   "execution_count": 17,
   "id": "9da31e26",
   "metadata": {},
   "outputs": [
    {
     "name": "stdout",
     "output_type": "stream",
     "text": [
      "RUNNING THE L-BFGS-B CODE\n",
      "\n",
      "           * * *\n",
      "\n",
      "Machine precision = 2.220D-16\n",
      " N =            4     M =           10\n",
      "\n",
      "At X0         0 variables are exactly at the bounds\n",
      "\n",
      "At iterate    0    f=  9.07706D-01    |proj g|=  1.84414D-02\n",
      "\n",
      "At iterate    5    f=  9.07663D-01    |proj g|=  9.62669D-04\n",
      "\n",
      "           * * *\n",
      "\n",
      "Tit   = total number of iterations\n",
      "Tnf   = total number of function evaluations\n",
      "Tnint = total number of segments explored during Cauchy searches\n",
      "Skip  = number of BFGS updates skipped\n",
      "Nact  = number of active bounds at final generalized Cauchy point\n",
      "Projg = norm of the final projected gradient\n",
      "F     = final function value\n",
      "\n",
      "           * * *\n",
      "\n",
      "   N    Tit     Tnf  Tnint  Skip  Nact     Projg        F\n",
      "    4      9     11      1     0     0   5.100D-06   9.077D-01\n",
      "  F =  0.90765521326478893     \n",
      "\n",
      "CONVERGENCE: NORM_OF_PROJECTED_GRADIENT_<=_PGTOL            \n"
     ]
    },
    {
     "name": "stderr",
     "output_type": "stream",
     "text": [
      " This problem is unconstrained.\n"
     ]
    },
    {
     "data": {
      "text/html": [
       "<table class=\"simpletable\">\n",
       "<caption>SARIMAX Results</caption>\n",
       "<tr>\n",
       "  <th>Dep. Variable:</th>      <td>Consumption</td>   <th>  No. Observations:  </th>    <td>194</td>  \n",
       "</tr>\n",
       "<tr>\n",
       "  <th>Model:</th>           <td>SARIMAX(3, 0, 0)</td> <th>  Log Likelihood     </th> <td>-176.085</td>\n",
       "</tr>\n",
       "<tr>\n",
       "  <th>Date:</th>            <td>Wed, 20 Apr 2022</td> <th>  AIC                </th>  <td>360.170</td>\n",
       "</tr>\n",
       "<tr>\n",
       "  <th>Time:</th>                <td>09:59:12</td>     <th>  BIC                </th>  <td>373.242</td>\n",
       "</tr>\n",
       "<tr>\n",
       "  <th>Sample:</th>             <td>01-01-1970</td>    <th>  HQIC               </th>  <td>365.463</td>\n",
       "</tr>\n",
       "<tr>\n",
       "  <th></th>                   <td>- 04-01-2018</td>   <th>                     </th>     <td> </td>   \n",
       "</tr>\n",
       "<tr>\n",
       "  <th>Covariance Type:</th>        <td>opg</td>       <th>                     </th>     <td> </td>   \n",
       "</tr>\n",
       "</table>\n",
       "<table class=\"simpletable\">\n",
       "<tr>\n",
       "     <td></td>       <th>coef</th>     <th>std err</th>      <th>z</th>      <th>P>|z|</th>  <th>[0.025</th>    <th>0.975]</th>  \n",
       "</tr>\n",
       "<tr>\n",
       "  <th>ar.L1</th>  <td>    0.3016</td> <td>    0.048</td> <td>    6.264</td> <td> 0.000</td> <td>    0.207</td> <td>    0.396</td>\n",
       "</tr>\n",
       "<tr>\n",
       "  <th>ar.L2</th>  <td>    0.2604</td> <td>    0.051</td> <td>    5.092</td> <td> 0.000</td> <td>    0.160</td> <td>    0.361</td>\n",
       "</tr>\n",
       "<tr>\n",
       "  <th>ar.L3</th>  <td>    0.3181</td> <td>    0.057</td> <td>    5.552</td> <td> 0.000</td> <td>    0.206</td> <td>    0.430</td>\n",
       "</tr>\n",
       "<tr>\n",
       "  <th>sigma2</th> <td>    0.3572</td> <td>    0.026</td> <td>   13.759</td> <td> 0.000</td> <td>    0.306</td> <td>    0.408</td>\n",
       "</tr>\n",
       "</table>\n",
       "<table class=\"simpletable\">\n",
       "<tr>\n",
       "  <th>Ljung-Box (L1) (Q):</th>     <td>0.15</td> <th>  Jarque-Bera (JB):  </th> <td>49.65</td>\n",
       "</tr>\n",
       "<tr>\n",
       "  <th>Prob(Q):</th>                <td>0.70</td> <th>  Prob(JB):          </th> <td>0.00</td> \n",
       "</tr>\n",
       "<tr>\n",
       "  <th>Heteroskedasticity (H):</th> <td>0.19</td> <th>  Skew:              </th> <td>-0.27</td>\n",
       "</tr>\n",
       "<tr>\n",
       "  <th>Prob(H) (two-sided):</th>    <td>0.00</td> <th>  Kurtosis:          </th> <td>5.42</td> \n",
       "</tr>\n",
       "</table><br/><br/>Warnings:<br/>[1] Covariance matrix calculated using the outer product of gradients (complex-step)."
      ],
      "text/plain": [
       "<class 'statsmodels.iolib.summary.Summary'>\n",
       "\"\"\"\n",
       "                               SARIMAX Results                                \n",
       "==============================================================================\n",
       "Dep. Variable:            Consumption   No. Observations:                  194\n",
       "Model:               SARIMAX(3, 0, 0)   Log Likelihood                -176.085\n",
       "Date:                Wed, 20 Apr 2022   AIC                            360.170\n",
       "Time:                        09:59:12   BIC                            373.242\n",
       "Sample:                    01-01-1970   HQIC                           365.463\n",
       "                         - 04-01-2018                                         \n",
       "Covariance Type:                  opg                                         \n",
       "==============================================================================\n",
       "                 coef    std err          z      P>|z|      [0.025      0.975]\n",
       "------------------------------------------------------------------------------\n",
       "ar.L1          0.3016      0.048      6.264      0.000       0.207       0.396\n",
       "ar.L2          0.2604      0.051      5.092      0.000       0.160       0.361\n",
       "ar.L3          0.3181      0.057      5.552      0.000       0.206       0.430\n",
       "sigma2         0.3572      0.026     13.759      0.000       0.306       0.408\n",
       "===================================================================================\n",
       "Ljung-Box (L1) (Q):                   0.15   Jarque-Bera (JB):                49.65\n",
       "Prob(Q):                              0.70   Prob(JB):                         0.00\n",
       "Heteroskedasticity (H):               0.19   Skew:                            -0.27\n",
       "Prob(H) (two-sided):                  0.00   Kurtosis:                         5.42\n",
       "===================================================================================\n",
       "\n",
       "Warnings:\n",
       "[1] Covariance matrix calculated using the outer product of gradients (complex-step).\n",
       "\"\"\""
      ]
     },
     "execution_count": 17,
     "metadata": {},
     "output_type": "execute_result"
    }
   ],
   "source": [
    "model=SARIMAX(train['Consumption'],order=(3,0,0),seasonal_order=(0,0,0,0))\n",
    "results=model.fit()\n",
    "results.summary()"
   ]
  },
  {
   "cell_type": "code",
   "execution_count": 18,
   "id": "c47245ba",
   "metadata": {},
   "outputs": [],
   "source": [
    "start=len(train)\n",
    "end=start+len(test)-1"
   ]
  },
  {
   "cell_type": "code",
   "execution_count": 19,
   "id": "8d11ce17",
   "metadata": {},
   "outputs": [],
   "source": [
    "predictions=results.predict(start=start,end=end,dynamic=False).rename('SARIMA')"
   ]
  },
  {
   "cell_type": "code",
   "execution_count": 22,
   "id": "dc7cea30",
   "metadata": {},
   "outputs": [
    {
     "data": {
      "text/plain": [
       "<AxesSubplot:xlabel='date'>"
      ]
     },
     "execution_count": 22,
     "metadata": {},
     "output_type": "execute_result"
    },
    {
     "data": {
      "image/png": "[encoded data removed]",
      "text/plain": [
       "<Figure size 432x288 with 1 Axes>"
      ]
     },
     "metadata": {
      "needs_background": "light"
     },
     "output_type": "display_data"
    }
   ],
   "source": [
    "ax=test['Consumption'].plot(legend=True)\n",
    "predictions.plot(legend=True)"
   ]
  },
  {
   "cell_type": "code",
   "execution_count": 23,
   "id": "1fdf6b00",
   "metadata": {},
   "outputs": [
    {
     "data": {
      "text/plain": [
       "0.6895530789585476"
      ]
     },
     "execution_count": 23,
     "metadata": {},
     "output_type": "execute_result"
    }
   ],
   "source": [
    "mean_absolute_percentage_error(test['Consumption'],predictions)"
   ]
  },
  {
   "cell_type": "code",
   "execution_count": 26,
   "id": "7740b851",
   "metadata": {},
   "outputs": [
    {
     "name": "stdout",
     "output_type": "stream",
     "text": [
      "RUNNING THE L-BFGS-B CODE\n",
      "\n",
      "           * * *\n",
      "\n",
      "Machine precision = 2.220D-16\n",
      " N =            5     M =           10\n",
      "\n",
      "At X0         0 variables are exactly at the bounds\n",
      "\n",
      "At iterate    0    f=  1.00359D+00    |proj g|=  5.34631D-01\n",
      "\n",
      "At iterate    5    f=  8.73435D-01    |proj g|=  5.91703D-02\n",
      "\n",
      "At iterate   10    f=  8.70844D-01    |proj g|=  1.62651D-03\n",
      "\n",
      "           * * *\n",
      "\n",
      "Tit   = total number of iterations\n",
      "Tnf   = total number of function evaluations\n",
      "Tnint = total number of segments explored during Cauchy searches\n",
      "Skip  = number of BFGS updates skipped\n",
      "Nact  = number of active bounds at final generalized Cauchy point\n",
      "Projg = norm of the final projected gradient\n",
      "F     = final function value\n",
      "\n",
      "           * * *\n",
      "\n",
      "   N    Tit     Tnf  Tnint  Skip  Nact     Projg        F\n",
      "    5     14     16      1     0     0   1.599D-06   8.708D-01\n",
      "  F =  0.87084105263751344     \n",
      "\n",
      "CONVERGENCE: NORM_OF_PROJECTED_GRADIENT_<=_PGTOL            \n"
     ]
    },
    {
     "name": "stderr",
     "output_type": "stream",
     "text": [
      " This problem is unconstrained.\n"
     ]
    },
    {
     "data": {
      "text/html": [
       "<table class=\"simpletable\">\n",
       "<caption>SARIMAX Results</caption>\n",
       "<tr>\n",
       "  <th>Dep. Variable:</th>      <td>Consumption</td>   <th>  No. Observations:  </th>    <td>194</td>  \n",
       "</tr>\n",
       "<tr>\n",
       "  <th>Model:</th>           <td>SARIMAX(3, 0, 0)</td> <th>  Log Likelihood     </th> <td>-168.943</td>\n",
       "</tr>\n",
       "<tr>\n",
       "  <th>Date:</th>            <td>Wed, 20 Apr 2022</td> <th>  AIC                </th>  <td>347.886</td>\n",
       "</tr>\n",
       "<tr>\n",
       "  <th>Time:</th>                <td>10:09:44</td>     <th>  BIC                </th>  <td>364.226</td>\n",
       "</tr>\n",
       "<tr>\n",
       "  <th>Sample:</th>             <td>01-01-1970</td>    <th>  HQIC               </th>  <td>354.503</td>\n",
       "</tr>\n",
       "<tr>\n",
       "  <th></th>                   <td>- 04-01-2018</td>   <th>                     </th>     <td> </td>   \n",
       "</tr>\n",
       "<tr>\n",
       "  <th>Covariance Type:</th>        <td>opg</td>       <th>                     </th>     <td> </td>   \n",
       "</tr>\n",
       "</table>\n",
       "<table class=\"simpletable\">\n",
       "<tr>\n",
       "     <td></td>       <th>coef</th>     <th>std err</th>      <th>z</th>      <th>P>|z|</th>  <th>[0.025</th>    <th>0.975]</th>  \n",
       "</tr>\n",
       "<tr>\n",
       "  <th>Income</th> <td>    0.1782</td> <td>    0.032</td> <td>    5.558</td> <td> 0.000</td> <td>    0.115</td> <td>    0.241</td>\n",
       "</tr>\n",
       "<tr>\n",
       "  <th>ar.L1</th>  <td>    0.2171</td> <td>    0.054</td> <td>    4.003</td> <td> 0.000</td> <td>    0.111</td> <td>    0.323</td>\n",
       "</tr>\n",
       "<tr>\n",
       "  <th>ar.L2</th>  <td>    0.3444</td> <td>    0.057</td> <td>    6.065</td> <td> 0.000</td> <td>    0.233</td> <td>    0.456</td>\n",
       "</tr>\n",
       "<tr>\n",
       "  <th>ar.L3</th>  <td>    0.2838</td> <td>    0.057</td> <td>    4.951</td> <td> 0.000</td> <td>    0.171</td> <td>    0.396</td>\n",
       "</tr>\n",
       "<tr>\n",
       "  <th>sigma2</th> <td>    0.3321</td> <td>    0.025</td> <td>   13.041</td> <td> 0.000</td> <td>    0.282</td> <td>    0.382</td>\n",
       "</tr>\n",
       "</table>\n",
       "<table class=\"simpletable\">\n",
       "<tr>\n",
       "  <th>Ljung-Box (L1) (Q):</th>     <td>0.42</td> <th>  Jarque-Bera (JB):  </th> <td>36.40</td>\n",
       "</tr>\n",
       "<tr>\n",
       "  <th>Prob(Q):</th>                <td>0.52</td> <th>  Prob(JB):          </th> <td>0.00</td> \n",
       "</tr>\n",
       "<tr>\n",
       "  <th>Heteroskedasticity (H):</th> <td>0.22</td> <th>  Skew:              </th> <td>-0.19</td>\n",
       "</tr>\n",
       "<tr>\n",
       "  <th>Prob(H) (two-sided):</th>    <td>0.00</td> <th>  Kurtosis:          </th> <td>5.09</td> \n",
       "</tr>\n",
       "</table><br/><br/>Warnings:<br/>[1] Covariance matrix calculated using the outer product of gradients (complex-step)."
      ],
      "text/plain": [
       "<class 'statsmodels.iolib.summary.Summary'>\n",
       "\"\"\"\n",
       "                               SARIMAX Results                                \n",
       "==============================================================================\n",
       "Dep. Variable:            Consumption   No. Observations:                  194\n",
       "Model:               SARIMAX(3, 0, 0)   Log Likelihood                -168.943\n",
       "Date:                Wed, 20 Apr 2022   AIC                            347.886\n",
       "Time:                        10:09:44   BIC                            364.226\n",
       "Sample:                    01-01-1970   HQIC                           354.503\n",
       "                         - 04-01-2018                                         \n",
       "Covariance Type:                  opg                                         \n",
       "==============================================================================\n",
       "                 coef    std err          z      P>|z|      [0.025      0.975]\n",
       "------------------------------------------------------------------------------\n",
       "Income         0.1782      0.032      5.558      0.000       0.115       0.241\n",
       "ar.L1          0.2171      0.054      4.003      0.000       0.111       0.323\n",
       "ar.L2          0.3444      0.057      6.065      0.000       0.233       0.456\n",
       "ar.L3          0.2838      0.057      4.951      0.000       0.171       0.396\n",
       "sigma2         0.3321      0.025     13.041      0.000       0.282       0.382\n",
       "===================================================================================\n",
       "Ljung-Box (L1) (Q):                   0.42   Jarque-Bera (JB):                36.40\n",
       "Prob(Q):                              0.52   Prob(JB):                         0.00\n",
       "Heteroskedasticity (H):               0.22   Skew:                            -0.19\n",
       "Prob(H) (two-sided):                  0.00   Kurtosis:                         5.09\n",
       "===================================================================================\n",
       "\n",
       "Warnings:\n",
       "[1] Covariance matrix calculated using the outer product of gradients (complex-step).\n",
       "\"\"\""
      ]
     },
     "execution_count": 26,
     "metadata": {},
     "output_type": "execute_result"
    }
   ],
   "source": [
    "modelExog=SARIMAX(train['Consumption'],exog=train['Income'],order=(3,0,0),seasonal_order=(0,0,0,0))\n",
    "resultsExog=modelExog.fit()\n",
    "resultsExog.summary()"
   ]
  },
  {
   "cell_type": "code",
   "execution_count": 27,
   "id": "c101f0ee",
   "metadata": {},
   "outputs": [],
   "source": [
    "predictionsExog=resultsExog.predict(start=start,end=end,exog=test['Income'],dynamic=False).rename('SARIMAX')"
   ]
  },
  {
   "cell_type": "code",
   "execution_count": 28,
   "id": "3f6cad6f",
   "metadata": {},
   "outputs": [
    {
     "data": {
      "text/plain": [
       "<AxesSubplot:xlabel='date'>"
      ]
     },
     "execution_count": 28,
     "metadata": {},
     "output_type": "execute_result"
    },
    {
     "data": {
      "image/png": "[encoded data removed]",
      "text/plain": [
       "<Figure size 432x288 with 1 Axes>"
      ]
     },
     "metadata": {
      "needs_background": "light"
     },
     "output_type": "display_data"
    }
   ],
   "source": [
    "ax=test['Consumption'].plot(legend=True)\n",
    "predictions.plot(legend=True)\n",
    "predictionsExog.plot(legend=True)"
   ]
  },
  {
   "cell_type": "code",
   "execution_count": 29,
   "id": "5ebbc6dc",
   "metadata": {},
   "outputs": [
    {
     "data": {
      "text/plain": [
       "0.7201050748679051"
      ]
     },
     "execution_count": 29,
     "metadata": {},
     "output_type": "execute_result"
    }
   ],
   "source": [
    "mean_absolute_percentage_error(test['Consumption'],predictionsExog)"
   ]
  },
  {
   "cell_type": "code",
   "execution_count": 32,
   "id": "a012d72b",
   "metadata": {},
   "outputs": [],
   "source": [
    "from statsmodels.tsa.api  import VAR "
   ]
  },
  {
   "cell_type": "code",
   "execution_count": 33,
   "id": "b8077f1b",
   "metadata": {},
   "outputs": [
    {
     "data": {
      "text/html": [
       "<div>\n",
       "<style scoped>\n",
       "    .dataframe tbody tr th:only-of-type {\n",
       "        vertical-align: middle;\n",
       "    }\n",
       "\n",
       "    .dataframe tbody tr th {\n",
       "        vertical-align: top;\n",
       "    }\n",
       "\n",
       "    .dataframe thead th {\n",
       "        text-align: right;\n",
       "    }\n",
       "</style>\n",
       "<table border=\"1\" class=\"dataframe\">\n",
       "  <thead>\n",
       "    <tr style=\"text-align: right;\">\n",
       "      <th></th>\n",
       "      <th>Consumption</th>\n",
       "      <th>Income</th>\n",
       "    </tr>\n",
       "    <tr>\n",
       "      <th>date</th>\n",
       "      <th></th>\n",
       "      <th></th>\n",
       "    </tr>\n",
       "  </thead>\n",
       "  <tbody>\n",
       "    <tr>\n",
       "      <th>1970-01-01</th>\n",
       "      <td>0.618566</td>\n",
       "      <td>1.044801</td>\n",
       "    </tr>\n",
       "    <tr>\n",
       "      <th>1970-04-01</th>\n",
       "      <td>0.451984</td>\n",
       "      <td>1.225647</td>\n",
       "    </tr>\n",
       "    <tr>\n",
       "      <th>1970-07-01</th>\n",
       "      <td>0.872872</td>\n",
       "      <td>1.585154</td>\n",
       "    </tr>\n",
       "    <tr>\n",
       "      <th>1970-10-01</th>\n",
       "      <td>-0.271848</td>\n",
       "      <td>-0.239545</td>\n",
       "    </tr>\n",
       "    <tr>\n",
       "      <th>1971-01-01</th>\n",
       "      <td>1.901345</td>\n",
       "      <td>1.975925</td>\n",
       "    </tr>\n",
       "    <tr>\n",
       "      <th>...</th>\n",
       "      <td>...</td>\n",
       "      <td>...</td>\n",
       "    </tr>\n",
       "    <tr>\n",
       "      <th>2018-04-01</th>\n",
       "      <td>0.983112</td>\n",
       "      <td>0.661825</td>\n",
       "    </tr>\n",
       "    <tr>\n",
       "      <th>2018-07-01</th>\n",
       "      <td>0.853181</td>\n",
       "      <td>0.806271</td>\n",
       "    </tr>\n",
       "    <tr>\n",
       "      <th>2018-10-01</th>\n",
       "      <td>0.356512</td>\n",
       "      <td>0.695142</td>\n",
       "    </tr>\n",
       "    <tr>\n",
       "      <th>2019-01-01</th>\n",
       "      <td>0.282885</td>\n",
       "      <td>1.100753</td>\n",
       "    </tr>\n",
       "    <tr>\n",
       "      <th>2019-04-01</th>\n",
       "      <td>1.113517</td>\n",
       "      <td>0.593399</td>\n",
       "    </tr>\n",
       "  </tbody>\n",
       "</table>\n",
       "<p>198 rows × 2 columns</p>\n",
       "</div>"
      ],
      "text/plain": [
       "            Consumption    Income\n",
       "date                             \n",
       "1970-01-01     0.618566  1.044801\n",
       "1970-04-01     0.451984  1.225647\n",
       "1970-07-01     0.872872  1.585154\n",
       "1970-10-01    -0.271848 -0.239545\n",
       "1971-01-01     1.901345  1.975925\n",
       "...                 ...       ...\n",
       "2018-04-01     0.983112  0.661825\n",
       "2018-07-01     0.853181  0.806271\n",
       "2018-10-01     0.356512  0.695142\n",
       "2019-01-01     0.282885  1.100753\n",
       "2019-04-01     1.113517  0.593399\n",
       "\n",
       "[198 rows x 2 columns]"
      ]
     },
     "execution_count": 33,
     "metadata": {},
     "output_type": "execute_result"
    }
   ],
   "source": [
    "df1=df[['Consumption','Income']]\n",
    "df1"
   ]
  },
  {
   "cell_type": "code",
   "execution_count": 34,
   "id": "517db7a0",
   "metadata": {},
   "outputs": [],
   "source": [
    "trainVAR=df1.iloc[:-4]\n",
    "testVAR=df1.iloc[-4:]"
   ]
  },
  {
   "cell_type": "code",
   "execution_count": 37,
   "id": "0d2d759c",
   "metadata": {},
   "outputs": [
    {
     "name": "stdout",
     "output_type": "stream",
     "text": [
      "order=  1\n",
      "AIC=  -1.44355774811431\n",
      "\n",
      "order=  2\n",
      "AIC=  -1.4427021710347265\n",
      "\n",
      "order=  3\n",
      "AIC=  -1.47905868013255\n",
      "\n",
      "order=  4\n",
      "AIC=  -1.4929139211167433\n",
      "\n",
      "order=  5\n",
      "AIC=  -1.555900188730903\n",
      "\n",
      "order=  6\n",
      "AIC=  -1.5281062869097655\n",
      "\n",
      "order=  7\n",
      "AIC=  -1.5045248025067974\n",
      "\n",
      "order=  8\n",
      "AIC=  -1.4866123239137767\n",
      "\n",
      "order=  9\n",
      "AIC=  -1.438980776981068\n",
      "\n"
     ]
    }
   ],
   "source": [
    "for i in range(1,10):\n",
    "    modelVAR=VAR(trainVAR)\n",
    "    resultsVAR=modelVAR.fit(i)\n",
    "    print('order= ',i)\n",
    "    print('AIC= ', resultsVAR.aic)\n",
    "    print('')"
   ]
  },
  {
   "cell_type": "code",
   "execution_count": 38,
   "id": "06f67e08",
   "metadata": {},
   "outputs": [],
   "source": [
    "modelVAR=VAR(trainVAR)\n",
    "resultsVAR=modelVAR.fit(5)"
   ]
  },
  {
   "cell_type": "code",
   "execution_count": 39,
   "id": "7a5486df",
   "metadata": {},
   "outputs": [
    {
     "data": {
      "text/plain": [
       "  Summary of Regression Results   \n",
       "==================================\n",
       "Model:                         VAR\n",
       "Method:                        OLS\n",
       "Date:           Wed, 20, Apr, 2022\n",
       "Time:                     10:30:11\n",
       "--------------------------------------------------------------------\n",
       "No. of Equations:         2.00000    BIC:                   -1.17855\n",
       "Nobs:                     189.000    HQIC:                  -1.40303\n",
       "Log likelihood:          -367.326    FPE:                   0.211055\n",
       "AIC:                     -1.55590    Det(Omega_mle):        0.188477\n",
       "--------------------------------------------------------------------\n",
       "Results for equation Consumption\n",
       "=================================================================================\n",
       "                    coefficient       std. error           t-stat            prob\n",
       "---------------------------------------------------------------------------------\n",
       "const                  0.349013         0.087649            3.982           0.000\n",
       "L1.Consumption         0.189323         0.077975            2.428           0.015\n",
       "L1.Income              0.108857         0.054103            2.012           0.044\n",
       "L2.Consumption         0.170980         0.080227            2.131           0.033\n",
       "L2.Income             -0.013760         0.057062           -0.241           0.809\n",
       "L3.Consumption         0.296786         0.079875            3.716           0.000\n",
       "L3.Income             -0.028260         0.055760           -0.507           0.612\n",
       "L4.Consumption        -0.033752         0.082758           -0.408           0.683\n",
       "L4.Income             -0.071837         0.055894           -1.285           0.199\n",
       "L5.Consumption        -0.043607         0.079010           -0.552           0.581\n",
       "L5.Income             -0.046964         0.053585           -0.876           0.381\n",
       "=================================================================================\n",
       "\n",
       "Results for equation Income\n",
       "=================================================================================\n",
       "                    coefficient       std. error           t-stat            prob\n",
       "---------------------------------------------------------------------------------\n",
       "const                  0.572394         0.123709            4.627           0.000\n",
       "L1.Consumption         0.410378         0.110055            3.729           0.000\n",
       "L1.Income             -0.303253         0.076362           -3.971           0.000\n",
       "L2.Consumption         0.101852         0.113234            0.899           0.368\n",
       "L2.Income             -0.045916         0.080538           -0.570           0.569\n",
       "L3.Consumption         0.468458         0.112737            4.155           0.000\n",
       "L3.Income             -0.150672         0.078701           -1.914           0.056\n",
       "L4.Consumption         0.266858         0.116805            2.285           0.022\n",
       "L4.Income             -0.260842         0.078890           -3.306           0.001\n",
       "L5.Consumption        -0.125637         0.111515           -1.127           0.260\n",
       "L5.Income             -0.202112         0.075631           -2.672           0.008\n",
       "=================================================================================\n",
       "\n",
       "Correlation matrix of residuals\n",
       "               Consumption    Income\n",
       "Consumption       1.000000  0.314089\n",
       "Income            0.314089  1.000000\n",
       "\n"
      ]
     },
     "execution_count": 39,
     "metadata": {},
     "output_type": "execute_result"
    }
   ],
   "source": [
    "resultsVAR.summary()"
   ]
  },
  {
   "cell_type": "code",
   "execution_count": 40,
   "id": "1d11eea3",
   "metadata": {},
   "outputs": [
    {
     "data": {
      "image/png": "[encoded data removed]",
      "text/plain": [
       "<Figure size 720x720 with 4 Axes>"
      ]
     },
     "metadata": {
      "needs_background": "light"
     },
     "output_type": "display_data"
    }
   ],
   "source": [
    "resultsVAR.plot_acorr();"
   ]
  },
  {
   "cell_type": "code",
   "execution_count": 42,
   "id": "ac0b7126",
   "metadata": {},
   "outputs": [
    {
     "data": {
      "text/plain": [
       "5"
      ]
     },
     "execution_count": 42,
     "metadata": {},
     "output_type": "execute_result"
    }
   ],
   "source": [
    "lag_order=resultsVAR.k_ar\n",
    "lag_order"
   ]
  },
  {
   "cell_type": "code",
   "execution_count": 44,
   "id": "1273b1fe",
   "metadata": {},
   "outputs": [
    {
     "data": {
      "text/plain": [
       "array([[0.58313943, 0.65003969],\n",
       "       [0.62821021, 0.31107678],\n",
       "       [0.76946343, 0.80071605],\n",
       "       [0.69544088, 0.75463026]])"
      ]
     },
     "execution_count": 44,
     "metadata": {},
     "output_type": "execute_result"
    }
   ],
   "source": [
    "predictedValues=resultsVAR.forecast(df1.values[-lag_order:],4)\n",
    "predictedValues\n",
    "\n"
   ]
  },
  {
   "cell_type": "code",
   "execution_count": 45,
   "id": "8773f1cd",
   "metadata": {},
   "outputs": [
    {
     "data": {
      "text/plain": [
       "array([0.85318135, 0.35651203, 0.28288547, 1.1135167 ])"
      ]
     },
     "execution_count": 45,
     "metadata": {},
     "output_type": "execute_result"
    }
   ],
   "source": [
    "testValuesConsumption=testVAR['Consumption'].values\n",
    "testValuesConsumption"
   ]
  },
  {
   "cell_type": "code",
   "execution_count": 46,
   "id": "495971f8",
   "metadata": {},
   "outputs": [
    {
     "data": {
      "text/plain": [
       "array([0.80627128, 0.69514222, 1.10075295, 0.5933995 ])"
      ]
     },
     "execution_count": 46,
     "metadata": {},
     "output_type": "execute_result"
    }
   ],
   "source": [
    "testValuesIncome=testVAR['Income'].values\n",
    "testValuesIncome"
   ]
  },
  {
   "cell_type": "code",
   "execution_count": 47,
   "id": "45154261",
   "metadata": {},
   "outputs": [
    {
     "data": {
      "text/plain": [
       "0.7935302535890587"
      ]
     },
     "execution_count": 47,
     "metadata": {},
     "output_type": "execute_result"
    }
   ],
   "source": [
    "mean_absolute_percentage_error(testValuesConsumption,predictedValues[:,0])"
   ]
  },
  {
   "cell_type": "code",
   "execution_count": 48,
   "id": "758a1ab3",
   "metadata": {},
   "outputs": [
    {
     "data": {
      "text/plain": [
       "0.32263769174292994"
      ]
     },
     "execution_count": 48,
     "metadata": {},
     "output_type": "execute_result"
    }
   ],
   "source": [
    "mean_absolute_percentage_error(testValuesIncome,predictedValues[:,1])"
   ]
  },
  {
   "cell_type": "code",
   "execution_count": 50,
   "id": "01b2c6d9",
   "metadata": {},
   "outputs": [
    {
     "data": {
      "image/png": "[encoded data removed]",
      "text/plain": [
       "<Figure size 720x720 with 2 Axes>"
      ]
     },
     "metadata": {
      "needs_background": "light"
     },
     "output_type": "display_data"
    }
   ],
   "source": [
    "resultsVAR.plot_forecast(4);"
   ]
  },
  {
   "cell_type": "code",
   "execution_count": null,
   "id": "34019eac",
   "metadata": {},
   "outputs": [],
   "source": []
  }
 ],
 "metadata": {
  "kernelspec": {
   "display_name": "Python 3 (ipykernel)",
   "language": "python",
   "name": "python3"
  },
  "language_info": {
   "codemirror_mode": {
    "name": "ipython",
    "version": 3
   },
   "file_extension": ".py",
   "mimetype": "text/x-python",
   "name": "python",
   "nbconvert_exporter": "python",
   "pygments_lexer": "ipython3",
   "version": "3.8.8"
  }
 },
 "nbformat": 4,
 "nbformat_minor": 5
}
