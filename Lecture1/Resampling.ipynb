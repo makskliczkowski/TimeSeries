{
 "cells": [
  {
   "cell_type": "code",
   "execution_count": 1,
   "id": "09c1de6f",
   "metadata": {},
   "outputs": [],
   "source": [
    "import numpy as np\n",
    "import pandas as pd\n",
    "\n"
   ]
  },
  {
   "cell_type": "code",
   "execution_count": 19,
   "id": "999b9107",
   "metadata": {},
   "outputs": [],
   "source": [
    "df=pd.read_csv('/Users/mirek/Downloads/SBUX1.csv')"
   ]
  },
  {
   "cell_type": "code",
   "execution_count": 20,
   "id": "223c5b4e",
   "metadata": {},
   "outputs": [
    {
     "data": {
      "text/plain": [
       "<bound method DataFrame.info of             Date       Open      Close    Volume\n",
       "0     2015-01-02  41.064999  40.720001   6886000\n",
       "1     2015-01-05  40.070000  39.939999  11623800\n",
       "2     2015-01-06  40.169998  39.615002   7664400\n",
       "3     2015-01-07  39.875000  40.590000   9732600\n",
       "4     2015-01-08  41.165001  41.244999  13170600\n",
       "...          ...        ...        ...       ...\n",
       "1000  2018-12-21  62.310001  61.389999  23524900\n",
       "1001  2018-12-24  61.480000  60.560001   6323300\n",
       "1002  2018-12-26  60.950001  63.080002  16646200\n",
       "1003  2018-12-27  62.619999  63.200001  11308100\n",
       "1004  2018-12-28  63.310001  63.389999   7711900\n",
       "\n",
       "[1005 rows x 4 columns]>"
      ]
     },
     "execution_count": 20,
     "metadata": {},
     "output_type": "execute_result"
    }
   ],
   "source": [
    "df.info"
   ]
  },
  {
   "cell_type": "code",
   "execution_count": 21,
   "id": "b0b92de3",
   "metadata": {},
   "outputs": [
    {
     "data": {
      "text/plain": [
       "Date       object\n",
       "Open      float64\n",
       "Close     float64\n",
       "Volume      int64\n",
       "dtype: object"
      ]
     },
     "execution_count": 21,
     "metadata": {},
     "output_type": "execute_result"
    }
   ],
   "source": [
    "df.dtypes"
   ]
  },
  {
   "cell_type": "code",
   "execution_count": 23,
   "id": "bd8afe8b",
   "metadata": {},
   "outputs": [
    {
     "data": {
      "text/html": [
       "<div>\n",
       "<style scoped>\n",
       "    .dataframe tbody tr th:only-of-type {\n",
       "        vertical-align: middle;\n",
       "    }\n",
       "\n",
       "    .dataframe tbody tr th {\n",
       "        vertical-align: top;\n",
       "    }\n",
       "\n",
       "    .dataframe thead th {\n",
       "        text-align: right;\n",
       "    }\n",
       "</style>\n",
       "<table border=\"1\" class=\"dataframe\">\n",
       "  <thead>\n",
       "    <tr style=\"text-align: right;\">\n",
       "      <th></th>\n",
       "      <th>Open</th>\n",
       "      <th>Close</th>\n",
       "      <th>Volume</th>\n",
       "    </tr>\n",
       "    <tr>\n",
       "      <th>Date</th>\n",
       "      <th></th>\n",
       "      <th></th>\n",
       "      <th></th>\n",
       "    </tr>\n",
       "  </thead>\n",
       "  <tbody>\n",
       "    <tr>\n",
       "      <th>2015-01-02</th>\n",
       "      <td>41.064999</td>\n",
       "      <td>40.720001</td>\n",
       "      <td>6886000</td>\n",
       "    </tr>\n",
       "    <tr>\n",
       "      <th>2015-01-05</th>\n",
       "      <td>40.070000</td>\n",
       "      <td>39.939999</td>\n",
       "      <td>11623800</td>\n",
       "    </tr>\n",
       "    <tr>\n",
       "      <th>2015-01-06</th>\n",
       "      <td>40.169998</td>\n",
       "      <td>39.615002</td>\n",
       "      <td>7664400</td>\n",
       "    </tr>\n",
       "    <tr>\n",
       "      <th>2015-01-07</th>\n",
       "      <td>39.875000</td>\n",
       "      <td>40.590000</td>\n",
       "      <td>9732600</td>\n",
       "    </tr>\n",
       "    <tr>\n",
       "      <th>2015-01-08</th>\n",
       "      <td>41.165001</td>\n",
       "      <td>41.244999</td>\n",
       "      <td>13170600</td>\n",
       "    </tr>\n",
       "    <tr>\n",
       "      <th>...</th>\n",
       "      <td>...</td>\n",
       "      <td>...</td>\n",
       "      <td>...</td>\n",
       "    </tr>\n",
       "    <tr>\n",
       "      <th>2018-12-21</th>\n",
       "      <td>62.310001</td>\n",
       "      <td>61.389999</td>\n",
       "      <td>23524900</td>\n",
       "    </tr>\n",
       "    <tr>\n",
       "      <th>2018-12-24</th>\n",
       "      <td>61.480000</td>\n",
       "      <td>60.560001</td>\n",
       "      <td>6323300</td>\n",
       "    </tr>\n",
       "    <tr>\n",
       "      <th>2018-12-26</th>\n",
       "      <td>60.950001</td>\n",
       "      <td>63.080002</td>\n",
       "      <td>16646200</td>\n",
       "    </tr>\n",
       "    <tr>\n",
       "      <th>2018-12-27</th>\n",
       "      <td>62.619999</td>\n",
       "      <td>63.200001</td>\n",
       "      <td>11308100</td>\n",
       "    </tr>\n",
       "    <tr>\n",
       "      <th>2018-12-28</th>\n",
       "      <td>63.310001</td>\n",
       "      <td>63.389999</td>\n",
       "      <td>7711900</td>\n",
       "    </tr>\n",
       "  </tbody>\n",
       "</table>\n",
       "<p>1005 rows × 3 columns</p>\n",
       "</div>"
      ],
      "text/plain": [
       "                 Open      Close    Volume\n",
       "Date                                      \n",
       "2015-01-02  41.064999  40.720001   6886000\n",
       "2015-01-05  40.070000  39.939999  11623800\n",
       "2015-01-06  40.169998  39.615002   7664400\n",
       "2015-01-07  39.875000  40.590000   9732600\n",
       "2015-01-08  41.165001  41.244999  13170600\n",
       "...               ...        ...       ...\n",
       "2018-12-21  62.310001  61.389999  23524900\n",
       "2018-12-24  61.480000  60.560001   6323300\n",
       "2018-12-26  60.950001  63.080002  16646200\n",
       "2018-12-27  62.619999  63.200001  11308100\n",
       "2018-12-28  63.310001  63.389999   7711900\n",
       "\n",
       "[1005 rows x 3 columns]"
      ]
     },
     "execution_count": 23,
     "metadata": {},
     "output_type": "execute_result"
    }
   ],
   "source": [
    "df['Date']=pd.to_datetime(df['Date'])\n",
    "df.set_index('Date',inplace=True)\n",
    "df"
   ]
  },
  {
   "cell_type": "code",
   "execution_count": 3,
   "id": "39851b90",
   "metadata": {},
   "outputs": [
    {
     "data": {
      "text/html": [
       "<div>\n",
       "<style scoped>\n",
       "    .dataframe tbody tr th:only-of-type {\n",
       "        vertical-align: middle;\n",
       "    }\n",
       "\n",
       "    .dataframe tbody tr th {\n",
       "        vertical-align: top;\n",
       "    }\n",
       "\n",
       "    .dataframe thead th {\n",
       "        text-align: right;\n",
       "    }\n",
       "</style>\n",
       "<table border=\"1\" class=\"dataframe\">\n",
       "  <thead>\n",
       "    <tr style=\"text-align: right;\">\n",
       "      <th></th>\n",
       "      <th>Open</th>\n",
       "      <th>Close</th>\n",
       "      <th>Volume</th>\n",
       "    </tr>\n",
       "    <tr>\n",
       "      <th>Date</th>\n",
       "      <th></th>\n",
       "      <th></th>\n",
       "      <th></th>\n",
       "    </tr>\n",
       "  </thead>\n",
       "  <tbody>\n",
       "    <tr>\n",
       "      <th>2015-01-02</th>\n",
       "      <td>41.064999</td>\n",
       "      <td>40.720001</td>\n",
       "      <td>6886000</td>\n",
       "    </tr>\n",
       "    <tr>\n",
       "      <th>2015-01-05</th>\n",
       "      <td>40.070000</td>\n",
       "      <td>39.939999</td>\n",
       "      <td>11623800</td>\n",
       "    </tr>\n",
       "    <tr>\n",
       "      <th>2015-01-06</th>\n",
       "      <td>40.169998</td>\n",
       "      <td>39.615002</td>\n",
       "      <td>7664400</td>\n",
       "    </tr>\n",
       "    <tr>\n",
       "      <th>2015-01-07</th>\n",
       "      <td>39.875000</td>\n",
       "      <td>40.590000</td>\n",
       "      <td>9732600</td>\n",
       "    </tr>\n",
       "    <tr>\n",
       "      <th>2015-01-08</th>\n",
       "      <td>41.165001</td>\n",
       "      <td>41.244999</td>\n",
       "      <td>13170600</td>\n",
       "    </tr>\n",
       "    <tr>\n",
       "      <th>...</th>\n",
       "      <td>...</td>\n",
       "      <td>...</td>\n",
       "      <td>...</td>\n",
       "    </tr>\n",
       "    <tr>\n",
       "      <th>2018-12-21</th>\n",
       "      <td>62.310001</td>\n",
       "      <td>61.389999</td>\n",
       "      <td>23524900</td>\n",
       "    </tr>\n",
       "    <tr>\n",
       "      <th>2018-12-24</th>\n",
       "      <td>61.480000</td>\n",
       "      <td>60.560001</td>\n",
       "      <td>6323300</td>\n",
       "    </tr>\n",
       "    <tr>\n",
       "      <th>2018-12-26</th>\n",
       "      <td>60.950001</td>\n",
       "      <td>63.080002</td>\n",
       "      <td>16646200</td>\n",
       "    </tr>\n",
       "    <tr>\n",
       "      <th>2018-12-27</th>\n",
       "      <td>62.619999</td>\n",
       "      <td>63.200001</td>\n",
       "      <td>11308100</td>\n",
       "    </tr>\n",
       "    <tr>\n",
       "      <th>2018-12-28</th>\n",
       "      <td>63.310001</td>\n",
       "      <td>63.389999</td>\n",
       "      <td>7711900</td>\n",
       "    </tr>\n",
       "  </tbody>\n",
       "</table>\n",
       "<p>1005 rows × 3 columns</p>\n",
       "</div>"
      ],
      "text/plain": [
       "                 Open      Close    Volume\n",
       "Date                                      \n",
       "2015-01-02  41.064999  40.720001   6886000\n",
       "2015-01-05  40.070000  39.939999  11623800\n",
       "2015-01-06  40.169998  39.615002   7664400\n",
       "2015-01-07  39.875000  40.590000   9732600\n",
       "2015-01-08  41.165001  41.244999  13170600\n",
       "...               ...        ...       ...\n",
       "2018-12-21  62.310001  61.389999  23524900\n",
       "2018-12-24  61.480000  60.560001   6323300\n",
       "2018-12-26  60.950001  63.080002  16646200\n",
       "2018-12-27  62.619999  63.200001  11308100\n",
       "2018-12-28  63.310001  63.389999   7711900\n",
       "\n",
       "[1005 rows x 3 columns]"
      ]
     },
     "execution_count": 3,
     "metadata": {},
     "output_type": "execute_result"
    }
   ],
   "source": [
    "df=pd.read_csv('/Users/mirek/Downloads/SBUX1.csv',index_col='Date',parse_dates=True)\n",
    "df"
   ]
  },
  {
   "cell_type": "code",
   "execution_count": 24,
   "id": "a2871c21",
   "metadata": {},
   "outputs": [
    {
     "data": {
      "text/plain": [
       "Open      float64\n",
       "Close     float64\n",
       "Volume      int64\n",
       "dtype: object"
      ]
     },
     "execution_count": 24,
     "metadata": {},
     "output_type": "execute_result"
    }
   ],
   "source": [
    "df.dtypes"
   ]
  },
  {
   "cell_type": "code",
   "execution_count": 25,
   "id": "220ce20b",
   "metadata": {},
   "outputs": [
    {
     "data": {
      "text/plain": [
       "<bound method NDFrame.head of                  Open      Close    Volume\n",
       "Date                                      \n",
       "2015-01-02  41.064999  40.720001   6886000\n",
       "2015-01-05  40.070000  39.939999  11623800\n",
       "2015-01-06  40.169998  39.615002   7664400\n",
       "2015-01-07  39.875000  40.590000   9732600\n",
       "2015-01-08  41.165001  41.244999  13170600\n",
       "...               ...        ...       ...\n",
       "2018-12-21  62.310001  61.389999  23524900\n",
       "2018-12-24  61.480000  60.560001   6323300\n",
       "2018-12-26  60.950001  63.080002  16646200\n",
       "2018-12-27  62.619999  63.200001  11308100\n",
       "2018-12-28  63.310001  63.389999   7711900\n",
       "\n",
       "[1005 rows x 3 columns]>"
      ]
     },
     "execution_count": 25,
     "metadata": {},
     "output_type": "execute_result"
    }
   ],
   "source": [
    "df.head"
   ]
  },
  {
   "cell_type": "code",
   "execution_count": 5,
   "id": "66ab282f",
   "metadata": {},
   "outputs": [
    {
     "data": {
      "text/plain": [
       "DatetimeIndex(['2015-01-02', '2015-01-05', '2015-01-06', '2015-01-07',\n",
       "               '2015-01-08', '2015-01-09', '2015-01-12', '2015-01-13',\n",
       "               '2015-01-14', '2015-01-15',\n",
       "               ...\n",
       "               '2018-12-14', '2018-12-17', '2018-12-18', '2018-12-19',\n",
       "               '2018-12-20', '2018-12-21', '2018-12-24', '2018-12-26',\n",
       "               '2018-12-27', '2018-12-28'],\n",
       "              dtype='datetime64[ns]', name='Date', length=1005, freq=None)"
      ]
     },
     "execution_count": 5,
     "metadata": {},
     "output_type": "execute_result"
    }
   ],
   "source": [
    "df.index"
   ]
  },
  {
   "cell_type": "code",
   "execution_count": 26,
   "id": "7bc1af1e",
   "metadata": {},
   "outputs": [
    {
     "data": {
      "text/html": [
       "<div>\n",
       "<style scoped>\n",
       "    .dataframe tbody tr th:only-of-type {\n",
       "        vertical-align: middle;\n",
       "    }\n",
       "\n",
       "    .dataframe tbody tr th {\n",
       "        vertical-align: top;\n",
       "    }\n",
       "\n",
       "    .dataframe thead th {\n",
       "        text-align: right;\n",
       "    }\n",
       "</style>\n",
       "<table border=\"1\" class=\"dataframe\">\n",
       "  <thead>\n",
       "    <tr style=\"text-align: right;\">\n",
       "      <th></th>\n",
       "      <th>Open</th>\n",
       "      <th>Close</th>\n",
       "      <th>Volume</th>\n",
       "    </tr>\n",
       "    <tr>\n",
       "      <th>Date</th>\n",
       "      <th></th>\n",
       "      <th></th>\n",
       "      <th></th>\n",
       "    </tr>\n",
       "  </thead>\n",
       "  <tbody>\n",
       "    <tr>\n",
       "      <th>2015-12-31</th>\n",
       "      <td>53.247361</td>\n",
       "      <td>53.253869</td>\n",
       "      <td>8.648356e+06</td>\n",
       "    </tr>\n",
       "    <tr>\n",
       "      <th>2016-12-31</th>\n",
       "      <td>56.559921</td>\n",
       "      <td>56.588889</td>\n",
       "      <td>9.300222e+06</td>\n",
       "    </tr>\n",
       "    <tr>\n",
       "      <th>2017-12-31</th>\n",
       "      <td>57.256374</td>\n",
       "      <td>57.267849</td>\n",
       "      <td>9.295893e+06</td>\n",
       "    </tr>\n",
       "    <tr>\n",
       "      <th>2018-12-31</th>\n",
       "      <td>57.433440</td>\n",
       "      <td>57.474280</td>\n",
       "      <td>1.124240e+07</td>\n",
       "    </tr>\n",
       "  </tbody>\n",
       "</table>\n",
       "</div>"
      ],
      "text/plain": [
       "                 Open      Close        Volume\n",
       "Date                                          \n",
       "2015-12-31  53.247361  53.253869  8.648356e+06\n",
       "2016-12-31  56.559921  56.588889  9.300222e+06\n",
       "2017-12-31  57.256374  57.267849  9.295893e+06\n",
       "2018-12-31  57.433440  57.474280  1.124240e+07"
      ]
     },
     "execution_count": 26,
     "metadata": {},
     "output_type": "execute_result"
    }
   ],
   "source": [
    "df.resample(rule='A').mean() # BQ quarterly # M monthly closing prices"
   ]
  },
  {
   "cell_type": "code",
   "execution_count": 27,
   "id": "3ce526cf",
   "metadata": {},
   "outputs": [
    {
     "data": {
      "text/plain": [
       "<AxesSubplot:xlabel='Date'>"
      ]
     },
     "execution_count": 27,
     "metadata": {},
     "output_type": "execute_result"
    },
    {
     "data": {
      "image/png": "[encoded data removed]",
      "text/plain": [
       "<Figure size 432x288 with 1 Axes>"
      ]
     },
     "metadata": {
      "needs_background": "light"
     },
     "output_type": "display_data"
    }
   ],
   "source": [
    "df['Close'].resample('A').mean().plot.bar('SBUX Average closing price')"
   ]
  },
  {
   "cell_type": "code",
   "execution_count": 28,
   "id": "025d13f3",
   "metadata": {},
   "outputs": [
    {
     "data": {
      "text/plain": [
       "<AxesSubplot:xlabel='Date'>"
      ]
     },
     "execution_count": 28,
     "metadata": {},
     "output_type": "execute_result"
    },
    {
     "data": {
      "image/png": "[encoded data removed]",
      "text/plain": [
       "<Figure size 864x432 with 1 Axes>"
      ]
     },
     "metadata": {
      "needs_background": "light"
     },
     "output_type": "display_data"
    }
   ],
   "source": [
    "df['Close'].resample('M').max().plot.bar('SBUX max closing price',figsize=(12,6))"
   ]
  },
  {
   "cell_type": "code",
   "execution_count": null,
   "id": "8a8b4dd9",
   "metadata": {},
   "outputs": [],
   "source": []
  }
 ],
 "metadata": {
  "kernelspec": {
   "display_name": "Python 3 (ipykernel)",
   "language": "python",
   "name": "python3"
  },
  "language_info": {
   "codemirror_mode": {
    "name": "ipython",
    "version": 3
   },
   "file_extension": ".py",
   "mimetype": "text/x-python",
   "name": "python",
   "nbconvert_exporter": "python",
   "pygments_lexer": "ipython3",
   "version": "3.8.3"
  }
 },
 "nbformat": 4,
 "nbformat_minor": 5
}
