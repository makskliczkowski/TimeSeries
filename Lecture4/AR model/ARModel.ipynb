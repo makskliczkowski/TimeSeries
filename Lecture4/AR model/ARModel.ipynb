{
 "cells": [
  {
   "cell_type": "code",
   "execution_count": 2,
   "id": "51243238",
   "metadata": {},
   "outputs": [],
   "source": [
    "import pandas as pd\n",
    "import numpy as np"
   ]
  },
  {
   "cell_type": "code",
   "execution_count": 3,
   "id": "c42e5719",
   "metadata": {},
   "outputs": [],
   "source": [
    "from statsmodels.tsa.ar_model import AutoReg"
   ]
  },
  {
   "cell_type": "code",
   "execution_count": 4,
   "id": "42da432a",
   "metadata": {},
   "outputs": [],
   "source": [
    "df=pd.read_csv('uspopulation.csv', index_col='DATE',parse_dates=True)\n",
    "df.index.freq='MS'"
   ]
  },
  {
   "cell_type": "code",
   "execution_count": 6,
   "id": "06e96db5",
   "metadata": {},
   "outputs": [
    {
     "data": {
      "text/html": [
       "<div>\n",
       "<style scoped>\n",
       "    .dataframe tbody tr th:only-of-type {\n",
       "        vertical-align: middle;\n",
       "    }\n",
       "\n",
       "    .dataframe tbody tr th {\n",
       "        vertical-align: top;\n",
       "    }\n",
       "\n",
       "    .dataframe thead th {\n",
       "        text-align: right;\n",
       "    }\n",
       "</style>\n",
       "<table border=\"1\" class=\"dataframe\">\n",
       "  <thead>\n",
       "    <tr style=\"text-align: right;\">\n",
       "      <th></th>\n",
       "      <th>PopEst</th>\n",
       "    </tr>\n",
       "    <tr>\n",
       "      <th>DATE</th>\n",
       "      <th></th>\n",
       "    </tr>\n",
       "  </thead>\n",
       "  <tbody>\n",
       "    <tr>\n",
       "      <th>2011-01-01</th>\n",
       "      <td>311037</td>\n",
       "    </tr>\n",
       "    <tr>\n",
       "      <th>2011-02-01</th>\n",
       "      <td>311189</td>\n",
       "    </tr>\n",
       "    <tr>\n",
       "      <th>2011-03-01</th>\n",
       "      <td>311351</td>\n",
       "    </tr>\n",
       "    <tr>\n",
       "      <th>2011-04-01</th>\n",
       "      <td>311522</td>\n",
       "    </tr>\n",
       "    <tr>\n",
       "      <th>2011-05-01</th>\n",
       "      <td>311699</td>\n",
       "    </tr>\n",
       "  </tbody>\n",
       "</table>\n",
       "</div>"
      ],
      "text/plain": [
       "            PopEst\n",
       "DATE              \n",
       "2011-01-01  311037\n",
       "2011-02-01  311189\n",
       "2011-03-01  311351\n",
       "2011-04-01  311522\n",
       "2011-05-01  311699"
      ]
     },
     "execution_count": 6,
     "metadata": {},
     "output_type": "execute_result"
    }
   ],
   "source": [
    "df.head()"
   ]
  },
  {
   "cell_type": "code",
   "execution_count": 7,
   "id": "61746e7f",
   "metadata": {},
   "outputs": [
    {
     "data": {
      "text/plain": [
       "<AxesSubplot:xlabel='DATE'>"
      ]
     },
     "execution_count": 7,
     "metadata": {},
     "output_type": "execute_result"
    },
    {
     "data": {
      "image/png": "[encoded data removed]",
      "text/plain": [
       "<Figure size 432x288 with 1 Axes>"
      ]
     },
     "metadata": {
      "needs_background": "light"
     },
     "output_type": "display_data"
    }
   ],
   "source": [
    "df.plot()"
   ]
  },
  {
   "cell_type": "code",
   "execution_count": 8,
   "id": "01cc47ef",
   "metadata": {},
   "outputs": [],
   "source": [
    "train=df.iloc[:84]\n",
    "test=df.iloc[84:]\n",
    "start=len(train)\n",
    "stop=len(df)-1"
   ]
  },
  {
   "cell_type": "code",
   "execution_count": 9,
   "id": "6a0dbe6e",
   "metadata": {},
   "outputs": [
    {
     "name": "stderr",
     "output_type": "stream",
     "text": [
      "/Users/mirek/opt/anaconda3/lib/python3.8/site-packages/statsmodels/tsa/ar_model.py:248: FutureWarning: The parameter names will change after 0.12 is released. Set old_names to False to use the new names now. Set old_names to True to use the old names. \n",
      "  warnings.warn(\n"
     ]
    }
   ],
   "source": [
    "AR1fit=AutoReg(train['PopEst'],lags=1).fit()"
   ]
  },
  {
   "cell_type": "code",
   "execution_count": 10,
   "id": "e73f6c94",
   "metadata": {},
   "outputs": [],
   "source": [
    "predictionsAR1=AR1fit.predict(start=start,end=stop,dynamic=False).rename('AR(1) predictions')"
   ]
  },
  {
   "cell_type": "code",
   "execution_count": 11,
   "id": "5e7ef6e3",
   "metadata": {},
   "outputs": [
    {
     "data": {
      "text/plain": [
       "2018-01-01    326560.403377\n",
       "2018-02-01    326742.749463\n",
       "2018-03-01    326925.038278\n",
       "2018-04-01    327107.269838\n",
       "2018-05-01    327289.444162\n",
       "2018-06-01    327471.561268\n",
       "2018-07-01    327653.621173\n",
       "2018-08-01    327835.623896\n",
       "2018-09-01    328017.569455\n",
       "2018-10-01    328199.457868\n",
       "2018-11-01    328381.289152\n",
       "2018-12-01    328563.063326\n",
       "Freq: MS, Name: AR(1) predictions, dtype: float64"
      ]
     },
     "execution_count": 11,
     "metadata": {},
     "output_type": "execute_result"
    }
   ],
   "source": [
    "predictionsAR1"
   ]
  },
  {
   "cell_type": "code",
   "execution_count": 12,
   "id": "c599e61a",
   "metadata": {},
   "outputs": [
    {
     "data": {
      "text/plain": [
       "intercept    284.913797\n",
       "PopEst.L1      0.999686\n",
       "dtype: float64"
      ]
     },
     "execution_count": 12,
     "metadata": {},
     "output_type": "execute_result"
    }
   ],
   "source": [
    "AR1fit.params"
   ]
  },
  {
   "cell_type": "code",
   "execution_count": 14,
   "id": "a3969dbf",
   "metadata": {},
   "outputs": [
    {
     "data": {
      "text/plain": [
       "<AxesSubplot:xlabel='DATE'>"
      ]
     },
     "execution_count": 14,
     "metadata": {},
     "output_type": "execute_result"
    },
    {
     "data": {
      "image/png": "[encoded data removed]",
      "text/plain": [
       "<Figure size 432x288 with 1 Axes>"
      ]
     },
     "metadata": {
      "needs_background": "light"
     },
     "output_type": "display_data"
    }
   ],
   "source": [
    "train['PopEst'].plot(legend=True,label='Train')\n",
    "test['PopEst'].plot(legend=True,label='Test')\n",
    "predictionsAR1.plot(legend=True,label='AR(1) predict')"
   ]
  },
  {
   "cell_type": "code",
   "execution_count": null,
   "id": "e851736c",
   "metadata": {},
   "outputs": [],
   "source": []
  }
 ],
 "metadata": {
  "kernelspec": {
   "display_name": "Python 3 (ipykernel)",
   "language": "python",
   "name": "python3"
  },
  "language_info": {
   "codemirror_mode": {
    "name": "ipython",
    "version": 3
   },
   "file_extension": ".py",
   "mimetype": "text/x-python",
   "name": "python",
   "nbconvert_exporter": "python",
   "pygments_lexer": "ipython3",
   "version": "3.8.8"
  }
 },
 "nbformat": 4,
 "nbformat_minor": 5
}
