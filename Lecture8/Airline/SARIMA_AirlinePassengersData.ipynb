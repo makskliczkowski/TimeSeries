{
 "cells": [
  {
   "cell_type": "code",
   "execution_count": 1,
   "id": "7dff3db5",
   "metadata": {},
   "outputs": [],
   "source": [
    "import pandas as pd\n",
    "import numpy as np"
   ]
  },
  {
   "cell_type": "code",
   "execution_count": 2,
   "id": "e1b567d8",
   "metadata": {},
   "outputs": [],
   "source": [
    "from statsmodels.tsa.statespace.sarimax import SARIMAX\n",
    "from statsmodels.tsa.seasonal import seasonal_decompose\n",
    "from pmdarima import auto_arima"
   ]
  },
  {
   "cell_type": "code",
   "execution_count": 16,
   "id": "1331edf4",
   "metadata": {},
   "outputs": [],
   "source": [
    "from sklearn.metrics import mean_absolute_error,mean_absolute_percentage_error, mean_squared_error"
   ]
  },
  {
   "cell_type": "code",
   "execution_count": 3,
   "id": "90bdf60a",
   "metadata": {},
   "outputs": [
    {
     "data": {
      "text/html": [
       "<div>\n",
       "<style scoped>\n",
       "    .dataframe tbody tr th:only-of-type {\n",
       "        vertical-align: middle;\n",
       "    }\n",
       "\n",
       "    .dataframe tbody tr th {\n",
       "        vertical-align: top;\n",
       "    }\n",
       "\n",
       "    .dataframe thead th {\n",
       "        text-align: right;\n",
       "    }\n",
       "</style>\n",
       "<table border=\"1\" class=\"dataframe\">\n",
       "  <thead>\n",
       "    <tr style=\"text-align: right;\">\n",
       "      <th></th>\n",
       "      <th>Thousands of Passengers</th>\n",
       "    </tr>\n",
       "    <tr>\n",
       "      <th>Month</th>\n",
       "      <th></th>\n",
       "    </tr>\n",
       "  </thead>\n",
       "  <tbody>\n",
       "    <tr>\n",
       "      <th>1949-01-01</th>\n",
       "      <td>112</td>\n",
       "    </tr>\n",
       "    <tr>\n",
       "      <th>1949-02-01</th>\n",
       "      <td>118</td>\n",
       "    </tr>\n",
       "    <tr>\n",
       "      <th>1949-03-01</th>\n",
       "      <td>132</td>\n",
       "    </tr>\n",
       "    <tr>\n",
       "      <th>1949-04-01</th>\n",
       "      <td>129</td>\n",
       "    </tr>\n",
       "    <tr>\n",
       "      <th>1949-05-01</th>\n",
       "      <td>121</td>\n",
       "    </tr>\n",
       "    <tr>\n",
       "      <th>...</th>\n",
       "      <td>...</td>\n",
       "    </tr>\n",
       "    <tr>\n",
       "      <th>1960-08-01</th>\n",
       "      <td>606</td>\n",
       "    </tr>\n",
       "    <tr>\n",
       "      <th>1960-09-01</th>\n",
       "      <td>508</td>\n",
       "    </tr>\n",
       "    <tr>\n",
       "      <th>1960-10-01</th>\n",
       "      <td>461</td>\n",
       "    </tr>\n",
       "    <tr>\n",
       "      <th>1960-11-01</th>\n",
       "      <td>390</td>\n",
       "    </tr>\n",
       "    <tr>\n",
       "      <th>1960-12-01</th>\n",
       "      <td>432</td>\n",
       "    </tr>\n",
       "  </tbody>\n",
       "</table>\n",
       "<p>144 rows × 1 columns</p>\n",
       "</div>"
      ],
      "text/plain": [
       "            Thousands of Passengers\n",
       "Month                              \n",
       "1949-01-01                      112\n",
       "1949-02-01                      118\n",
       "1949-03-01                      132\n",
       "1949-04-01                      129\n",
       "1949-05-01                      121\n",
       "...                             ...\n",
       "1960-08-01                      606\n",
       "1960-09-01                      508\n",
       "1960-10-01                      461\n",
       "1960-11-01                      390\n",
       "1960-12-01                      432\n",
       "\n",
       "[144 rows x 1 columns]"
      ]
     },
     "execution_count": 3,
     "metadata": {},
     "output_type": "execute_result"
    }
   ],
   "source": [
    "df=pd.read_csv('airline_passengers.csv',index_col='Month',parse_dates=True)\n",
    "df"
   ]
  },
  {
   "cell_type": "code",
   "execution_count": 4,
   "id": "7cb7bb2f",
   "metadata": {},
   "outputs": [
    {
     "name": "stdout",
     "output_type": "stream",
     "text": [
      "<class 'pandas.core.frame.DataFrame'>\n",
      "DatetimeIndex: 144 entries, 1949-01-01 to 1960-12-01\n",
      "Data columns (total 1 columns):\n",
      " #   Column                   Non-Null Count  Dtype\n",
      "---  ------                   --------------  -----\n",
      " 0   Thousands of Passengers  144 non-null    int64\n",
      "dtypes: int64(1)\n",
      "memory usage: 2.2 KB\n"
     ]
    }
   ],
   "source": [
    "df.info()"
   ]
  },
  {
   "cell_type": "code",
   "execution_count": 5,
   "id": "611b1c2d",
   "metadata": {},
   "outputs": [],
   "source": [
    "df.index.freq='MS'"
   ]
  },
  {
   "cell_type": "code",
   "execution_count": 6,
   "id": "3f2601e8",
   "metadata": {},
   "outputs": [
    {
     "data": {
      "text/plain": [
       "<AxesSubplot:xlabel='Month'>"
      ]
     },
     "execution_count": 6,
     "metadata": {},
     "output_type": "execute_result"
    },
    {
     "data": {
      "image/png": "[encoded data removed]",
      "text/plain": [
       "<Figure size 432x288 with 1 Axes>"
      ]
     },
     "metadata": {
      "needs_background": "light"
     },
     "output_type": "display_data"
    }
   ],
   "source": [
    "df.plot()"
   ]
  },
  {
   "cell_type": "code",
   "execution_count": 7,
   "id": "a2615474",
   "metadata": {},
   "outputs": [],
   "source": [
    "seasonalDecomposition=seasonal_decompose(df,model='mul')"
   ]
  },
  {
   "cell_type": "code",
   "execution_count": 9,
   "id": "d9b5ecac",
   "metadata": {},
   "outputs": [
    {
     "data": {
      "image/png": "[encoded data removed]",
      "text/plain": [
       "<Figure size 432x288 with 4 Axes>"
      ]
     },
     "metadata": {
      "needs_background": "light"
     },
     "output_type": "display_data"
    }
   ],
   "source": [
    "seasonalDecomposition.plot();"
   ]
  },
  {
   "cell_type": "code",
   "execution_count": 10,
   "id": "b7f5bfdf",
   "metadata": {},
   "outputs": [
    {
     "name": "stdout",
     "output_type": "stream",
     "text": [
      "Performing stepwise search to minimize aic\n",
      " ARIMA(2,1,2)(1,1,1)[12]             : AIC=1020.048, Time=0.87 sec\n",
      " ARIMA(0,1,0)(0,1,0)[12]             : AIC=1031.508, Time=0.02 sec\n",
      " ARIMA(1,1,0)(1,1,0)[12]             : AIC=1020.393, Time=0.08 sec\n",
      " ARIMA(0,1,1)(0,1,1)[12]             : AIC=1021.003, Time=0.18 sec\n",
      " ARIMA(2,1,2)(0,1,1)[12]             : AIC=1019.935, Time=0.65 sec\n",
      " ARIMA(2,1,2)(0,1,0)[12]             : AIC=1019.290, Time=0.21 sec\n",
      " ARIMA(2,1,2)(1,1,0)[12]             : AIC=1019.546, Time=0.63 sec\n",
      " ARIMA(1,1,2)(0,1,0)[12]             : AIC=1024.160, Time=0.07 sec\n",
      " ARIMA(2,1,1)(0,1,0)[12]             : AIC=1017.847, Time=0.15 sec\n",
      " ARIMA(2,1,1)(1,1,0)[12]             : AIC=1017.914, Time=0.50 sec\n",
      " ARIMA(2,1,1)(0,1,1)[12]             : AIC=1018.359, Time=0.60 sec\n",
      " ARIMA(2,1,1)(1,1,1)[12]             : AIC=1018.248, Time=0.78 sec\n",
      " ARIMA(1,1,1)(0,1,0)[12]             : AIC=1022.393, Time=0.04 sec\n",
      " ARIMA(2,1,0)(0,1,0)[12]             : AIC=1022.393, Time=0.04 sec\n",
      " ARIMA(3,1,1)(0,1,0)[12]             : AIC=1019.084, Time=0.19 sec\n",
      " ARIMA(1,1,0)(0,1,0)[12]             : AIC=1020.393, Time=0.03 sec\n",
      " ARIMA(3,1,0)(0,1,0)[12]             : AIC=1023.666, Time=0.06 sec\n",
      " ARIMA(3,1,2)(0,1,0)[12]             : AIC=1021.083, Time=0.34 sec\n",
      " ARIMA(2,1,1)(0,1,0)[12] intercept   : AIC=inf, Time=0.25 sec\n",
      "\n",
      "Best model:  ARIMA(2,1,1)(0,1,0)[12]          \n",
      "Total fit time: 5.742 seconds\n"
     ]
    },
    {
     "data": {
      "text/html": [
       "<table class=\"simpletable\">\n",
       "<caption>SARIMAX Results</caption>\n",
       "<tr>\n",
       "  <th>Dep. Variable:</th>                  <td>y</td>                <th>  No. Observations:  </th>    <td>144</td>  \n",
       "</tr>\n",
       "<tr>\n",
       "  <th>Model:</th>           <td>SARIMAX(2, 1, 1)x(0, 1, [], 12)</td> <th>  Log Likelihood     </th> <td>-504.923</td>\n",
       "</tr>\n",
       "<tr>\n",
       "  <th>Date:</th>                   <td>Tue, 12 Apr 2022</td>         <th>  AIC                </th> <td>1017.847</td>\n",
       "</tr>\n",
       "<tr>\n",
       "  <th>Time:</th>                       <td>07:44:39</td>             <th>  BIC                </th> <td>1029.348</td>\n",
       "</tr>\n",
       "<tr>\n",
       "  <th>Sample:</th>                         <td>0</td>                <th>  HQIC               </th> <td>1022.520</td>\n",
       "</tr>\n",
       "<tr>\n",
       "  <th></th>                             <td> - 144</td>              <th>                     </th>     <td> </td>   \n",
       "</tr>\n",
       "<tr>\n",
       "  <th>Covariance Type:</th>               <td>opg</td>               <th>                     </th>     <td> </td>   \n",
       "</tr>\n",
       "</table>\n",
       "<table class=\"simpletable\">\n",
       "<tr>\n",
       "     <td></td>       <th>coef</th>     <th>std err</th>      <th>z</th>      <th>P>|z|</th>  <th>[0.025</th>    <th>0.975]</th>  \n",
       "</tr>\n",
       "<tr>\n",
       "  <th>ar.L1</th>  <td>    0.5960</td> <td>    0.085</td> <td>    6.987</td> <td> 0.000</td> <td>    0.429</td> <td>    0.763</td>\n",
       "</tr>\n",
       "<tr>\n",
       "  <th>ar.L2</th>  <td>    0.2143</td> <td>    0.091</td> <td>    2.343</td> <td> 0.019</td> <td>    0.035</td> <td>    0.394</td>\n",
       "</tr>\n",
       "<tr>\n",
       "  <th>ma.L1</th>  <td>   -0.9819</td> <td>    0.038</td> <td>  -25.599</td> <td> 0.000</td> <td>   -1.057</td> <td>   -0.907</td>\n",
       "</tr>\n",
       "<tr>\n",
       "  <th>sigma2</th> <td>  129.3152</td> <td>   14.557</td> <td>    8.883</td> <td> 0.000</td> <td>  100.784</td> <td>  157.846</td>\n",
       "</tr>\n",
       "</table>\n",
       "<table class=\"simpletable\">\n",
       "<tr>\n",
       "  <th>Ljung-Box (L1) (Q):</th>     <td>0.00</td> <th>  Jarque-Bera (JB):  </th> <td>7.68</td> \n",
       "</tr>\n",
       "<tr>\n",
       "  <th>Prob(Q):</th>                <td>0.98</td> <th>  Prob(JB):          </th> <td>0.02</td> \n",
       "</tr>\n",
       "<tr>\n",
       "  <th>Heteroskedasticity (H):</th> <td>2.33</td> <th>  Skew:              </th> <td>-0.01</td>\n",
       "</tr>\n",
       "<tr>\n",
       "  <th>Prob(H) (two-sided):</th>    <td>0.01</td> <th>  Kurtosis:          </th> <td>4.19</td> \n",
       "</tr>\n",
       "</table><br/><br/>Warnings:<br/>[1] Covariance matrix calculated using the outer product of gradients (complex-step)."
      ],
      "text/plain": [
       "<class 'statsmodels.iolib.summary.Summary'>\n",
       "\"\"\"\n",
       "                                      SARIMAX Results                                      \n",
       "===========================================================================================\n",
       "Dep. Variable:                                   y   No. Observations:                  144\n",
       "Model:             SARIMAX(2, 1, 1)x(0, 1, [], 12)   Log Likelihood                -504.923\n",
       "Date:                             Tue, 12 Apr 2022   AIC                           1017.847\n",
       "Time:                                     07:44:39   BIC                           1029.348\n",
       "Sample:                                          0   HQIC                          1022.520\n",
       "                                             - 144                                         \n",
       "Covariance Type:                               opg                                         \n",
       "==============================================================================\n",
       "                 coef    std err          z      P>|z|      [0.025      0.975]\n",
       "------------------------------------------------------------------------------\n",
       "ar.L1          0.5960      0.085      6.987      0.000       0.429       0.763\n",
       "ar.L2          0.2143      0.091      2.343      0.019       0.035       0.394\n",
       "ma.L1         -0.9819      0.038    -25.599      0.000      -1.057      -0.907\n",
       "sigma2       129.3152     14.557      8.883      0.000     100.784     157.846\n",
       "===================================================================================\n",
       "Ljung-Box (L1) (Q):                   0.00   Jarque-Bera (JB):                 7.68\n",
       "Prob(Q):                              0.98   Prob(JB):                         0.02\n",
       "Heteroskedasticity (H):               2.33   Skew:                            -0.01\n",
       "Prob(H) (two-sided):                  0.01   Kurtosis:                         4.19\n",
       "===================================================================================\n",
       "\n",
       "Warnings:\n",
       "[1] Covariance matrix calculated using the outer product of gradients (complex-step).\n",
       "\"\"\""
      ]
     },
     "execution_count": 10,
     "metadata": {},
     "output_type": "execute_result"
    }
   ],
   "source": [
    "auto_arima(df,seasonal=True,m=12,trace=True).summary()"
   ]
  },
  {
   "cell_type": "code",
   "execution_count": 11,
   "id": "b9c408ad",
   "metadata": {},
   "outputs": [
    {
     "data": {
      "text/plain": [
       "12"
      ]
     },
     "execution_count": 11,
     "metadata": {},
     "output_type": "execute_result"
    }
   ],
   "source": [
    "train=df.iloc[:-12]\n",
    "test=df.iloc[-12:]\n",
    "len(test)"
   ]
  },
  {
   "cell_type": "code",
   "execution_count": 12,
   "id": "c140c573",
   "metadata": {},
   "outputs": [
    {
     "name": "stdout",
     "output_type": "stream",
     "text": [
      "RUNNING THE L-BFGS-B CODE\n",
      "\n",
      "           * * *\n",
      "\n",
      "Machine precision = 2.220D-16\n",
      " N =            4     M =           10\n",
      "\n",
      "At X0         0 variables are exactly at the bounds\n",
      "\n",
      "At iterate    0    f=  3.42129D+00    |proj g|=  2.27842D-01\n",
      "\n",
      "At iterate    5    f=  3.39217D+00    |proj g|=  1.21740D-02\n",
      "\n",
      "At iterate   10    f=  3.39006D+00    |proj g|=  2.06911D-03\n",
      "\n",
      "At iterate   15    f=  3.39003D+00    |proj g|=  1.15965D-03\n",
      "\n",
      "           * * *\n",
      "\n",
      "Tit   = total number of iterations\n",
      "Tnf   = total number of function evaluations\n",
      "Tnint = total number of segments explored during Cauchy searches\n",
      "Skip  = number of BFGS updates skipped\n",
      "Nact  = number of active bounds at final generalized Cauchy point\n",
      "Projg = norm of the final projected gradient\n",
      "F     = final function value\n",
      "\n",
      "           * * *\n",
      "\n",
      "   N    Tit     Tnf  Tnint  Skip  Nact     Projg        F\n",
      "    4     18     40      2     0     0   1.846D-06   3.390D+00\n",
      "  F =   3.3900246510162053     \n",
      "\n",
      "CONVERGENCE: NORM_OF_PROJECTED_GRADIENT_<=_PGTOL            \n"
     ]
    },
    {
     "name": "stderr",
     "output_type": "stream",
     "text": [
      "/Users/mirek/opt/anaconda3/lib/python3.8/site-packages/statsmodels/tsa/statespace/sarimax.py:966: UserWarning: Non-stationary starting autoregressive parameters found. Using zeros as starting parameters.\n",
      "  warn('Non-stationary starting autoregressive parameters'\n",
      "/Users/mirek/opt/anaconda3/lib/python3.8/site-packages/statsmodels/tsa/statespace/sarimax.py:978: UserWarning: Non-invertible starting MA parameters found. Using zeros as starting parameters.\n",
      "  warn('Non-invertible starting MA parameters found.'\n",
      " This problem is unconstrained.\n",
      "\n",
      " Bad direction in the line search;\n",
      "   refresh the lbfgs memory and restart the iteration.\n"
     ]
    }
   ],
   "source": [
    "model=SARIMAX(train,order=(2,1,1),seasonal_order=(0,1,0,12))\n",
    "results=model.fit()"
   ]
  },
  {
   "cell_type": "code",
   "execution_count": 13,
   "id": "db3029ec",
   "metadata": {},
   "outputs": [
    {
     "data": {
      "text/html": [
       "<table class=\"simpletable\">\n",
       "<caption>SARIMAX Results</caption>\n",
       "<tr>\n",
       "  <th>Dep. Variable:</th>       <td>Thousands of Passengers</td>     <th>  No. Observations:  </th>    <td>132</td>  \n",
       "</tr>\n",
       "<tr>\n",
       "  <th>Model:</th>           <td>SARIMAX(2, 1, 1)x(0, 1, [], 12)</td> <th>  Log Likelihood     </th> <td>-447.483</td>\n",
       "</tr>\n",
       "<tr>\n",
       "  <th>Date:</th>                   <td>Tue, 12 Apr 2022</td>         <th>  AIC                </th>  <td>902.967</td>\n",
       "</tr>\n",
       "<tr>\n",
       "  <th>Time:</th>                       <td>07:48:43</td>             <th>  BIC                </th>  <td>914.083</td>\n",
       "</tr>\n",
       "<tr>\n",
       "  <th>Sample:</th>                    <td>01-01-1949</td>            <th>  HQIC               </th>  <td>907.481</td>\n",
       "</tr>\n",
       "<tr>\n",
       "  <th></th>                          <td>- 12-01-1959</td>           <th>                     </th>     <td> </td>   \n",
       "</tr>\n",
       "<tr>\n",
       "  <th>Covariance Type:</th>               <td>opg</td>               <th>                     </th>     <td> </td>   \n",
       "</tr>\n",
       "</table>\n",
       "<table class=\"simpletable\">\n",
       "<tr>\n",
       "     <td></td>       <th>coef</th>     <th>std err</th>      <th>z</th>      <th>P>|z|</th>  <th>[0.025</th>    <th>0.975]</th>  \n",
       "</tr>\n",
       "<tr>\n",
       "  <th>ar.L1</th>  <td>   -0.5252</td> <td>    0.928</td> <td>   -0.566</td> <td> 0.572</td> <td>   -2.345</td> <td>    1.295</td>\n",
       "</tr>\n",
       "<tr>\n",
       "  <th>ar.L2</th>  <td>    0.0110</td> <td>    0.275</td> <td>    0.040</td> <td> 0.968</td> <td>   -0.529</td> <td>    0.551</td>\n",
       "</tr>\n",
       "<tr>\n",
       "  <th>ma.L1</th>  <td>    0.3064</td> <td>    0.935</td> <td>    0.328</td> <td> 0.743</td> <td>   -1.527</td> <td>    2.139</td>\n",
       "</tr>\n",
       "<tr>\n",
       "  <th>sigma2</th> <td>  108.0093</td> <td>   13.498</td> <td>    8.002</td> <td> 0.000</td> <td>   81.553</td> <td>  134.466</td>\n",
       "</tr>\n",
       "</table>\n",
       "<table class=\"simpletable\">\n",
       "<tr>\n",
       "  <th>Ljung-Box (L1) (Q):</th>     <td>0.00</td> <th>  Jarque-Bera (JB):  </th> <td>1.39</td> \n",
       "</tr>\n",
       "<tr>\n",
       "  <th>Prob(Q):</th>                <td>0.97</td> <th>  Prob(JB):          </th> <td>0.50</td> \n",
       "</tr>\n",
       "<tr>\n",
       "  <th>Heteroskedasticity (H):</th> <td>1.47</td> <th>  Skew:              </th> <td>-0.09</td>\n",
       "</tr>\n",
       "<tr>\n",
       "  <th>Prob(H) (two-sided):</th>    <td>0.23</td> <th>  Kurtosis:          </th> <td>3.50</td> \n",
       "</tr>\n",
       "</table><br/><br/>Warnings:<br/>[1] Covariance matrix calculated using the outer product of gradients (complex-step)."
      ],
      "text/plain": [
       "<class 'statsmodels.iolib.summary.Summary'>\n",
       "\"\"\"\n",
       "                                      SARIMAX Results                                      \n",
       "===========================================================================================\n",
       "Dep. Variable:             Thousands of Passengers   No. Observations:                  132\n",
       "Model:             SARIMAX(2, 1, 1)x(0, 1, [], 12)   Log Likelihood                -447.483\n",
       "Date:                             Tue, 12 Apr 2022   AIC                            902.967\n",
       "Time:                                     07:48:43   BIC                            914.083\n",
       "Sample:                                 01-01-1949   HQIC                           907.481\n",
       "                                      - 12-01-1959                                         \n",
       "Covariance Type:                               opg                                         \n",
       "==============================================================================\n",
       "                 coef    std err          z      P>|z|      [0.025      0.975]\n",
       "------------------------------------------------------------------------------\n",
       "ar.L1         -0.5252      0.928     -0.566      0.572      -2.345       1.295\n",
       "ar.L2          0.0110      0.275      0.040      0.968      -0.529       0.551\n",
       "ma.L1          0.3064      0.935      0.328      0.743      -1.527       2.139\n",
       "sigma2       108.0093     13.498      8.002      0.000      81.553     134.466\n",
       "===================================================================================\n",
       "Ljung-Box (L1) (Q):                   0.00   Jarque-Bera (JB):                 1.39\n",
       "Prob(Q):                              0.97   Prob(JB):                         0.50\n",
       "Heteroskedasticity (H):               1.47   Skew:                            -0.09\n",
       "Prob(H) (two-sided):                  0.23   Kurtosis:                         3.50\n",
       "===================================================================================\n",
       "\n",
       "Warnings:\n",
       "[1] Covariance matrix calculated using the outer product of gradients (complex-step).\n",
       "\"\"\""
      ]
     },
     "execution_count": 13,
     "metadata": {},
     "output_type": "execute_result"
    }
   ],
   "source": [
    "results.summary()"
   ]
  },
  {
   "cell_type": "code",
   "execution_count": 20,
   "id": "cc429cb3",
   "metadata": {},
   "outputs": [],
   "source": [
    "start=len(train)\n",
    "end=start+len(test)-1\n",
    "predictions=results.predict(start=start,end=end,dynamic=False).rename('SARIMA(2,1,1)(0,1,0,12)')"
   ]
  },
  {
   "cell_type": "code",
   "execution_count": 21,
   "id": "9aac51d5",
   "metadata": {},
   "outputs": [
    {
     "data": {
      "text/plain": [
       "<AxesSubplot:xlabel='Month'>"
      ]
     },
     "execution_count": 21,
     "metadata": {},
     "output_type": "execute_result"
    },
    {
     "data": {
      "image/png": "[encoded data removed]",
      "text/plain": [
       "<Figure size 864x432 with 1 Axes>"
      ]
     },
     "metadata": {
      "needs_background": "light"
     },
     "output_type": "display_data"
    }
   ],
   "source": [
    "ax=test.plot(legend=True,figsize=(12,6))\n",
    "predictions.plot(legend=True)"
   ]
  },
  {
   "cell_type": "code",
   "execution_count": 17,
   "id": "93c2284c",
   "metadata": {},
   "outputs": [
    {
     "data": {
      "text/plain": [
       "0.04431781829742987"
      ]
     },
     "execution_count": 17,
     "metadata": {},
     "output_type": "execute_result"
    }
   ],
   "source": [
    "mean_absolute_percentage_error(test,predictions)"
   ]
  },
  {
   "cell_type": "code",
   "execution_count": null,
   "id": "d7a5194e",
   "metadata": {},
   "outputs": [],
   "source": [
    "df['date']=pd.to_datetime(dict(year=df['year'],month=df['month'],day=1))"
   ]
  },
  {
   "cell_type": "code",
   "execution_count": null,
   "id": "60a755b5",
   "metadata": {},
   "outputs": [],
   "source": []
  }
 ],
 "metadata": {
  "kernelspec": {
   "display_name": "Python 3 (ipykernel)",
   "language": "python",
   "name": "python3"
  },
  "language_info": {
   "codemirror_mode": {
    "name": "ipython",
    "version": 3
   },
   "file_extension": ".py",
   "mimetype": "text/x-python",
   "name": "python",
   "nbconvert_exporter": "python",
   "pygments_lexer": "ipython3",
   "version": "3.8.3"
  }
 },
 "nbformat": 4,
 "nbformat_minor": 5
}
